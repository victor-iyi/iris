{
 "cells": [
  {
   "cell_type": "markdown",
   "id": "57e07bbe-cff8-422d-b9cd-c648e4856d0f",
   "metadata": {},
   "source": [
    "# Visualize the Iris dataset"
   ]
  },
  {
   "cell_type": "code",
   "execution_count": 2,
   "id": "571b4eb7-f139-4b44-907c-3572d51a3d82",
   "metadata": {},
   "outputs": [],
   "source": [
    "// for multi-dimensional array.\n",
    ":dep ndarray\n",
    "// for working with dataframe\n",
    ":dep polars = { version = \"0.26.1\", features = [\"ndarray\", \"lazy\", \"describe\", \"dtype-full\"] }\n",
    "// for plotting data.\n",
    ":dep plotly = { version = \"0.6\", features=[\"plotly_ndarray\"] }"
   ]
  },
  {
   "cell_type": "code",
   "execution_count": 3,
   "id": "f32a244d-3d0f-491c-bd07-fd2b71116970",
   "metadata": {},
   "outputs": [],
   "source": [
    "use polars::prelude::*;\n",
    "use ndarray::prelude::*;\n",
    "use plotly::{common::{Mode, Title}, , Scatter, Plot, layout::{Axis, Layout, Legend}};"
   ]
  },
  {
   "cell_type": "code",
   "execution_count": 4,
   "id": "539042b3-48ef-47c9-83b8-ca2eed70a89d",
   "metadata": {},
   "outputs": [],
   "source": [
    "let ldf = LazyCsvReader::new(\"../data/iris.csv\").finish()?;"
   ]
  },
  {
   "cell_type": "code",
   "execution_count": 5,
   "id": "df2304dc-f0ce-4bae-9f2d-c69e7a621d35",
   "metadata": {},
   "outputs": [
    {
     "data": {
      "text/plain": [
       "shape: (150, 5)\n",
       "┌──────────────┬─────────────┬──────────────┬─────────────┬───────────┐\n",
       "│ sepal_length ┆ sepal_width ┆ petal_length ┆ petal_width ┆ species   │\n",
       "│ ---          ┆ ---         ┆ ---          ┆ ---         ┆ ---       │\n",
       "│ f64          ┆ f64         ┆ f64          ┆ f64         ┆ str       │\n",
       "╞══════════════╪═════════════╪══════════════╪═════════════╪═══════════╡\n",
       "│ 5.1          ┆ 3.5         ┆ 1.4          ┆ 0.2         ┆ setosa    │\n",
       "├╌╌╌╌╌╌╌╌╌╌╌╌╌╌┼╌╌╌╌╌╌╌╌╌╌╌╌╌┼╌╌╌╌╌╌╌╌╌╌╌╌╌╌┼╌╌╌╌╌╌╌╌╌╌╌╌╌┼╌╌╌╌╌╌╌╌╌╌╌┤\n",
       "│ 4.9          ┆ 3.0         ┆ 1.4          ┆ 0.2         ┆ setosa    │\n",
       "├╌╌╌╌╌╌╌╌╌╌╌╌╌╌┼╌╌╌╌╌╌╌╌╌╌╌╌╌┼╌╌╌╌╌╌╌╌╌╌╌╌╌╌┼╌╌╌╌╌╌╌╌╌╌╌╌╌┼╌╌╌╌╌╌╌╌╌╌╌┤\n",
       "│ 4.7          ┆ 3.2         ┆ 1.3          ┆ 0.2         ┆ setosa    │\n",
       "├╌╌╌╌╌╌╌╌╌╌╌╌╌╌┼╌╌╌╌╌╌╌╌╌╌╌╌╌┼╌╌╌╌╌╌╌╌╌╌╌╌╌╌┼╌╌╌╌╌╌╌╌╌╌╌╌╌┼╌╌╌╌╌╌╌╌╌╌╌┤\n",
       "│ 4.6          ┆ 3.1         ┆ 1.5          ┆ 0.2         ┆ setosa    │\n",
       "├╌╌╌╌╌╌╌╌╌╌╌╌╌╌┼╌╌╌╌╌╌╌╌╌╌╌╌╌┼╌╌╌╌╌╌╌╌╌╌╌╌╌╌┼╌╌╌╌╌╌╌╌╌╌╌╌╌┼╌╌╌╌╌╌╌╌╌╌╌┤\n",
       "│ ...          ┆ ...         ┆ ...          ┆ ...         ┆ ...       │\n",
       "├╌╌╌╌╌╌╌╌╌╌╌╌╌╌┼╌╌╌╌╌╌╌╌╌╌╌╌╌┼╌╌╌╌╌╌╌╌╌╌╌╌╌╌┼╌╌╌╌╌╌╌╌╌╌╌╌╌┼╌╌╌╌╌╌╌╌╌╌╌┤\n",
       "│ 6.3          ┆ 2.5         ┆ 5.0          ┆ 1.9         ┆ virginica │\n",
       "├╌╌╌╌╌╌╌╌╌╌╌╌╌╌┼╌╌╌╌╌╌╌╌╌╌╌╌╌┼╌╌╌╌╌╌╌╌╌╌╌╌╌╌┼╌╌╌╌╌╌╌╌╌╌╌╌╌┼╌╌╌╌╌╌╌╌╌╌╌┤\n",
       "│ 6.5          ┆ 3.0         ┆ 5.2          ┆ 2.0         ┆ virginica │\n",
       "├╌╌╌╌╌╌╌╌╌╌╌╌╌╌┼╌╌╌╌╌╌╌╌╌╌╌╌╌┼╌╌╌╌╌╌╌╌╌╌╌╌╌╌┼╌╌╌╌╌╌╌╌╌╌╌╌╌┼╌╌╌╌╌╌╌╌╌╌╌┤\n",
       "│ 6.2          ┆ 3.4         ┆ 5.4          ┆ 2.3         ┆ virginica │\n",
       "├╌╌╌╌╌╌╌╌╌╌╌╌╌╌┼╌╌╌╌╌╌╌╌╌╌╌╌╌┼╌╌╌╌╌╌╌╌╌╌╌╌╌╌┼╌╌╌╌╌╌╌╌╌╌╌╌╌┼╌╌╌╌╌╌╌╌╌╌╌┤\n",
       "│ 5.9          ┆ 3.0         ┆ 5.1          ┆ 1.8         ┆ virginica │\n",
       "└──────────────┴─────────────┴──────────────┴─────────────┴───────────┘"
      ]
     },
     "execution_count": 5,
     "metadata": {},
     "output_type": "execute_result"
    }
   ],
   "source": [
    "let df = ldf.clone().collect()?;\n",
    "df"
   ]
  },
  {
   "cell_type": "code",
   "execution_count": 6,
   "id": "c16ba222-0a84-42e6-ad11-85ea0aef2102",
   "metadata": {
    "tags": []
   },
   "outputs": [
    {
     "data": {
      "text/plain": [
       "[\"setosa\", \"versicolor\", \"virginica\"]"
      ]
     },
     "execution_count": 6,
     "metadata": {},
     "output_type": "execute_result"
    }
   ],
   "source": [
    "let species_arr = df.column(\"species\")?.utf8()?.to_owned();\n",
    "let mut species: Vec<String> = Vec::from(&species_arr).iter().map(|s| s.unwrap().to_string()).collect();\n",
    "species.dedup(); // remove consecutive elements from vector.\n",
    "species"
   ]
  },
  {
   "cell_type": "code",
   "execution_count": 7,
   "id": "e4b59127-8790-4fcb-8b0c-cec970a399d5",
   "metadata": {},
   "outputs": [
    {
     "data": {
      "text/plain": [
       "shape: (3, 5)\n",
       "┌────────────┬────────────────┬──────────────────────┬──────────────────────┬──────────────────────┐\n",
       "│ species    ┆ sepal_length   ┆ sepal_width          ┆ petal_length         ┆ petal_width          │\n",
       "│ ---        ┆ ---            ┆ ---                  ┆ ---                  ┆ ---                  │\n",
       "│ str        ┆ list[f64]      ┆ list[f64]            ┆ list[f64]            ┆ list[f64]            │\n",
       "╞════════════╪════════════════╪══════════════════════╪══════════════════════╪══════════════════════╡\n",
       "│ virginica  ┆ [6.3, 5.8, ... ┆ [3.3, 2.7, ... 3.0]  ┆ [6.0, 5.1, ... 5.1]  ┆ [2.5, 1.9, ... 1.8]  │\n",
       "│            ┆ 5.9]           ┆                      ┆                      ┆                      │\n",
       "├╌╌╌╌╌╌╌╌╌╌╌╌┼╌╌╌╌╌╌╌╌╌╌╌╌╌╌╌╌┼╌╌╌╌╌╌╌╌╌╌╌╌╌╌╌╌╌╌╌╌╌╌┼╌╌╌╌╌╌╌╌╌╌╌╌╌╌╌╌╌╌╌╌╌╌┼╌╌╌╌╌╌╌╌╌╌╌╌╌╌╌╌╌╌╌╌╌╌┤\n",
       "│ versicolor ┆ [7.0, 6.4, ... ┆ [3.2, 3.2, ... 2.8]  ┆ [4.7, 4.5, ... 4.1]  ┆ [1.4, 1.5, ... 1.3]  │\n",
       "│            ┆ 5.7]           ┆                      ┆                      ┆                      │\n",
       "├╌╌╌╌╌╌╌╌╌╌╌╌┼╌╌╌╌╌╌╌╌╌╌╌╌╌╌╌╌┼╌╌╌╌╌╌╌╌╌╌╌╌╌╌╌╌╌╌╌╌╌╌┼╌╌╌╌╌╌╌╌╌╌╌╌╌╌╌╌╌╌╌╌╌╌┼╌╌╌╌╌╌╌╌╌╌╌╌╌╌╌╌╌╌╌╌╌╌┤\n",
       "│ setosa     ┆ [5.1, 4.9, ... ┆ [3.5, 3.0, ... 3.3]  ┆ [1.4, 1.4, ... 1.4]  ┆ [0.2, 0.2, ... 0.2]  │\n",
       "│            ┆ 5.0]           ┆                      ┆                      ┆                      │\n",
       "└────────────┴────────────────┴──────────────────────┴──────────────────────┴──────────────────────┘"
      ]
     },
     "execution_count": 7,
     "metadata": {},
     "output_type": "execute_result"
    }
   ],
   "source": [
    "let grouped_lazy = ldf.clone()\n",
    ".groupby([\"species\"])\n",
    ".agg([\n",
    "    col(\"sepal_length\"),\n",
    "    col(\"sepal_width\"),\n",
    "    col(\"petal_length\"),\n",
    "    col(\"petal_width\"),\n",
    "]);\n",
    "\n",
    "grouped_lazy.clone().collect()?"
   ]
  },
  {
   "cell_type": "code",
   "execution_count": 8,
   "id": "3dd88426-9596-4826-b0c4-566efdb8a8e2",
   "metadata": {},
   "outputs": [
    {
     "data": {
      "text/plain": [
       "shape: (3, 5)\n",
       "┌────────────┬────────────────┬──────────────────────┬──────────────────────┬──────────────────────┐\n",
       "│ species    ┆ sepal_length   ┆ sepal_width          ┆ petal_length         ┆ petal_width          │\n",
       "│ ---        ┆ ---            ┆ ---                  ┆ ---                  ┆ ---                  │\n",
       "│ str        ┆ list[f64]      ┆ list[f64]            ┆ list[f64]            ┆ list[f64]            │\n",
       "╞════════════╪════════════════╪══════════════════════╪══════════════════════╪══════════════════════╡\n",
       "│ setosa     ┆ [5.1, 4.9, ... ┆ [3.5, 3.0, ... 3.3]  ┆ [1.4, 1.4, ... 1.4]  ┆ [0.2, 0.2, ... 0.2]  │\n",
       "│            ┆ 5.0]           ┆                      ┆                      ┆                      │\n",
       "├╌╌╌╌╌╌╌╌╌╌╌╌┼╌╌╌╌╌╌╌╌╌╌╌╌╌╌╌╌┼╌╌╌╌╌╌╌╌╌╌╌╌╌╌╌╌╌╌╌╌╌╌┼╌╌╌╌╌╌╌╌╌╌╌╌╌╌╌╌╌╌╌╌╌╌┼╌╌╌╌╌╌╌╌╌╌╌╌╌╌╌╌╌╌╌╌╌╌┤\n",
       "│ virginica  ┆ [6.3, 5.8, ... ┆ [3.3, 2.7, ... 3.0]  ┆ [6.0, 5.1, ... 5.1]  ┆ [2.5, 1.9, ... 1.8]  │\n",
       "│            ┆ 5.9]           ┆                      ┆                      ┆                      │\n",
       "├╌╌╌╌╌╌╌╌╌╌╌╌┼╌╌╌╌╌╌╌╌╌╌╌╌╌╌╌╌┼╌╌╌╌╌╌╌╌╌╌╌╌╌╌╌╌╌╌╌╌╌╌┼╌╌╌╌╌╌╌╌╌╌╌╌╌╌╌╌╌╌╌╌╌╌┼╌╌╌╌╌╌╌╌╌╌╌╌╌╌╌╌╌╌╌╌╌╌┤\n",
       "│ versicolor ┆ [7.0, 6.4, ... ┆ [3.2, 3.2, ... 2.8]  ┆ [4.7, 4.5, ... 4.1]  ┆ [1.4, 1.5, ... 1.3]  │\n",
       "│            ┆ 5.7]           ┆                      ┆                      ┆                      │\n",
       "└────────────┴────────────────┴──────────────────────┴──────────────────────┴──────────────────────┘"
      ]
     },
     "execution_count": 8,
     "metadata": {},
     "output_type": "execute_result"
    }
   ],
   "source": [
    "let grouped = grouped_lazy.clone().collect()?;\n",
    "grouped"
   ]
  },
  {
   "cell_type": "code",
   "execution_count": 9,
   "id": "d2c6ff0a-e78b-4f38-937c-5a047c781dee",
   "metadata": {
    "tags": []
   },
   "outputs": [
    {
     "name": "stdout",
     "output_type": "stream",
     "text": [
      "shape: (3,)\n",
      "Series: 'species' [str]\n",
      "[\n",
      "\t\"setosa\"\n",
      "\t\"virginica\"\n",
      "\t\"versicolor\"\n",
      "]\n",
      "[Some(\"setosa\"), Some(\"virginica\"), Some(\"versicolor\")]\n",
      "shape: (3,)\n",
      "Series: 'sepal_length' [list]\n",
      "[\n",
      "\t[5.1, 4.9, ... 5.0]\n",
      "\t[6.3, 5.8, ... 5.9]\n",
      "]\n",
      "sepal_length\n",
      "\t[7.0, 6.4, ... 5.7]\n",
      "[[5.1, 4.9, 4.7, 4.6, 5.0, 5.4, 4.6, 5.0, 4.4, 4.9, 5.4, 4.8, 4.8, 4.3, 5.8, 5.7, 5.4, 5.1, 5.7, 5.1, 5.4, 5.1, 4.6, 5.1, 4.8, 5.0, 5.0, 5.2, 5.2, 4.7, 4.8, 5.4, 5.2, 5.5, 4.9, 5.0, 5.5, 4.9, 4.4, 5.1, 5.0, 4.5, 4.4, 5.0, 5.1, 4.8, 5.1, 4.6, 5.3, 5.0],\n",
      " [6.3, 5.8, 7.1, 6.3, 6.5, 7.6, 4.9, 7.3, 6.7, 7.2, 6.5, 6.4, 6.8, 5.7, 5.8, 6.4, 6.5, 7.7, 7.7, 6.0, 6.9, 5.6, 7.7, 6.3, 6.7, 7.2, 6.2, 6.1, 6.4, 7.2, 7.4, 7.9, 6.4, 6.3, 6.1, 7.7, 6.3, 6.4, 6.0, 6.9, 6.7, 6.9, 5.8, 6.8, 6.7, 6.7, 6.3, 6.5, 6.2, 5.9],\n",
      " [7.0, 6.4, 6.9, 5.5, 6.5, 5.7, 6.3, 4.9, 6.6, 5.2, 5.0, 5.9, 6.0, 6.1, 5.6, 6.7, 5.6, 5.8, 6.2, 5.6, 5.9, 6.1, 6.3, 6.1, 6.4, 6.6, 6.8, 6.7, 6.0, 5.7, 5.5, 5.5, 5.8, 6.0, 5.4, 6.0, 6.7, 6.3, 5.6, 5.5, 5.5, 6.1, 5.8, 5.0, 5.6, 5.7, 5.7, 6.2, 5.1, 5.7]], shape=[3, 50], strides=[50, 1], layout=Cc (0x5), const ndim=2\n",
      "\n",
      "\n",
      "shape: (3,)\n",
      "Series: 'sepal_width' [list]\n",
      "[\n",
      "\t[3.5, 3.0, ... 3.3]\n",
      "\t[3.3, 2.7, ... 3.0]\n",
      "\t[3.2, 3.2, ... 2.8]\n",
      "]\n",
      "sepal_width\n",
      "[[3.5, 3.0, 3.2, 3.1, 3.6, 3.9, 3.4, 3.4, 2.9, 3.1, 3.7, 3.4, 3.0, 3.0, 4.0, 4.4, 3.9, 3.5, 3.8, 3.8, 3.4, 3.7, 3.6, 3.3, 3.4, 3.0, 3.4, 3.5, 3.4, 3.2, 3.1, 3.4, 4.1, 4.2, 3.1, 3.2, 3.5, 3.1, 3.0, 3.4, 3.5, 2.3, 3.2, 3.5, 3.8, 3.0, 3.8, 3.2, 3.7, 3.3],\n"
     ]
    },
    {
     "data": {
      "text/plain": [
       "()"
      ]
     },
     "execution_count": 9,
     "metadata": {},
     "output_type": "execute_result"
    }
   ],
   "source": [
    "for col in grouped.clone().iter() {\n",
    "    println!(\"{:?}\", col);\n",
    "    \n",
    "    if col.name() != \"species\" {\n",
    "        println!(\"{}\", col.name());\n",
    "        let arr = col.list()?.to_ndarray::<Float64Type>()?;\n",
    "        println!(\"{:?}\", arr);\n",
    "        println!(\"\\n\");\n",
    "    } else {\n",
    "        let s: Vec<Option<&str>> = Vec::from(col.utf8()?);\n",
    "        println!(\"{:?}\", s);\n",
    "    }\n",
    "}"
   ]
  },
  {
   "cell_type": "markdown",
   "id": "fe1a27e3-9d7e-4a9f-ad59-6291c7d481d4",
   "metadata": {},
   "source": [
    "## Sepal Measurements"
   ]
  },
  {
   "cell_type": "code",
   "execution_count": 10,
   "id": "9aaa30f0-415a-4a4f-b27d-342d93d750d2",
   "metadata": {
    "tags": []
   },
   "outputs": [
    {
     "name": "stdout",
     "output_type": "stream",
     "text": [
      " [3.3, 2.7, 3.0, 2.9, 3.0, 3.0, 2.5, 2.9, 2.5, 3.6, 3.2, 2.7, 3.0, 2.5, 2.8, 3.2, 3.0, 3.8, 2.6, 2.2, 3.2, 2.8, 2.8, 2.7, 3.3, 3.2, 2.8, 3.0, 2.8, 3.0, 2.8, 3.8, 2.8, 2.8, 2.6, 3.0, 3.4, 3.1, 3.0, 3.1, 3.1, 3.1, 2.7, 3.2, 3.3, 3.0, 2.5, 3.0, 3.4, 3.0],\n",
      " [3.2, 3.2, 3.1, 2.3, 2.8, 2.8, 3.3, 2.4, 2.9, 2.7, 2.0, 3.0, 2.2, 2.9, 2.9, 3.1, 3.0, 2.7, 2.2, 2.5, 3.2, 2.8, 2.5, 2.8, 2.9, 3.0, 2.8, 3.0, 2.9, 2.6, 2.4, 2.4, 2.7, 2.7, 3.0, 3.4, 3.1, 2.3, 3.0, 2.5, 2.6, 3.0, 2.6, 2.3, 2.7, 3.0, 2.9, 2.9, 2.5, 2.8]], shape=[3, 50], strides=[50, 1], layout=Cc (0x5), const ndim=2\n",
      "\n",
      "\n",
      "shape: (3,)\n",
      "Series: 'petal_length' [list]\n",
      "[\n",
      "\t[1.4, 1.4, ... 1.4]\n",
      "\t[6.0, 5.1, ... 5.1]\n",
      "\t[4.7, 4.5, ... 4.1]\n",
      "]\n",
      "petal_length\n",
      "[[1.4, 1.4, 1.3, 1.5, 1.4, 1.7, 1.4, 1.5, 1.4, 1.5, 1.5, 1.6, 1.4, 1.1, 1.2, 1.5, 1.3, 1.4, 1.7, 1.5, 1.7, 1.5, 1.0, 1.7, 1.9, 1.6, 1.6, 1.5, 1.4, 1.6, 1.6, 1.5, 1.5, 1.4, 1.5, 1.2, 1.3, 1.5, 1.3, 1.5, 1.3, 1.3, 1.3, 1.6, 1.9, 1.4, 1.6, 1.4, 1.5, 1.4],\n",
      " [6.0, 5.1, 5.9, 5.6, 5.8, 6.6, 4.5, 6.3, 5.8, 6.1, 5.1, 5.3, 5.5, 5.0, 5.1, 5.3, 5.5, 6.7, 6.9, 5.0, 5.7, 4.9, 6.7, 4.9, 5.7, 6.0, 4.8, 4.9, 5.6, 5.8, 6.1, 6.4, 5.6, 5.1, 5.6, 6.1, 5.6, 5.5, 4.8, 5.4, 5.6, 5.1, 5.1, 5.9, 5.7, 5.2, 5.0, 5.2, 5.4, 5.1],\n",
      " [4.7, 4.5, 4.9, 4.0, 4.6, 4.5, 4.7, 3.3, 4.6, 3.9, 3.5, 4.2, 4.0, 4.7, 3.6, 4.4, 4.5, 4.1, 4.5, 3.9, 4.8, 4.0, 4.9, 4.7, 4.3, 4.4, 4.8, 5.0, 4.5, 3.5, 3.8, 3.7, 3.9, 5.1, 4.5, 4.5, 4.7, 4.4, 4.1, 4.0, 4.4, 4.6, 4.0, 3.3, 4.2, 4.2, 4.2, 4.3, 3.0, 4.1]], shape=[3, 50], strides=[50, 1], layout=Cc (0x5), const ndim=2\n",
      "\n",
      "\n",
      "shape: (3,)\n",
      "Series: 'petal_width' [list]\n",
      "[\n",
      "\t[0.2, 0.2, ... 0.2]\n",
      "\t[2.5, 1.9, ... 1.8]\n",
      "\t[1.4, 1.5, ... 1.3]\n",
      "]\n",
      "petal_width\n",
      "[[0.2, 0.2, 0.2, 0.2, 0.2, 0.4, 0.3, 0.2, 0.2, 0.1, 0.2, 0.2, 0.1, 0.1, 0.2, 0.4, 0.4, 0.3, 0.3, 0.3, 0.2, 0.4, 0.2, 0.5, 0.2, 0.2, 0.4, 0.2, 0.2, 0.2, 0.2, 0.4, 0.1, 0.2, 0.1, 0.2, 0.2, 0.1, 0.2, 0.2, 0.3, 0.3, 0.2, 0.6, 0.4, 0.3, 0.2, 0.2, 0.2, 0.2],\n",
      " [2.5, 1.9, 2.1, 1.8, 2.2, 2.1, 1.7, 1.8, 1.8, 2.5, 2.0, 1.9, 2.1, 2.0, 2.4, 2.3, 1.8, 2.2, 2.3, 1.5, 2.3, 2.0, 2.0, 1.8, 2.1, 1.8, 1.8, 1.8, 2.1, 1.6, 1.9, 2.0, 2.2, 1.5, 1.4, 2.3, 2.4, 1.8, 1.8, 2.1, 2.4, 2.3, 1.9, 2.3, 2.5, 2.3, 1.9, 2.0, 2.3, 1.8],\n",
      " [1.4, 1.5, 1.5, 1.3, 1.5, 1.3, 1.6, 1.0, 1.3, 1.4, 1.0, 1.5, 1.0, 1.4, 1.3, 1.4, 1.5, 1.0, 1.5, 1.1, 1.8, 1.3, 1.5, 1.2, 1.3, 1.4, 1.4, 1.7, 1.5, 1.0, 1.1, 1.0, 1.2, 1.6, 1.5, 1.6, 1.5, 1.3, 1.3, 1.3, 1.2, 1.4, 1.2, 1.0, 1.3, 1.2, 1.3, 1.3, 1.1, 1.3]], shape=[3, 50], strides=[50, 1], layout=Cc (0x5), const ndim=2\n",
      "\n",
      "\n"
     ]
    },
    {
     "data": {
      "text/plain": [
       "shape: (3, 2)\n",
       "┌─────────────────────┬─────────────────────┐\n",
       "│ sepal_length        ┆ sepal_width         │\n",
       "│ ---                 ┆ ---                 │\n",
       "│ list[f64]           ┆ list[f64]           │\n",
       "╞═════════════════════╪═════════════════════╡\n",
       "│ [6.3, 5.8, ... 5.9] ┆ [3.3, 2.7, ... 3.0] │\n",
       "├╌╌╌╌╌╌╌╌╌╌╌╌╌╌╌╌╌╌╌╌╌┼╌╌╌╌╌╌╌╌╌╌╌╌╌╌╌╌╌╌╌╌╌┤\n",
       "│ [5.1, 4.9, ... 5.0] ┆ [3.5, 3.0, ... 3.3] │\n",
       "├╌╌╌╌╌╌╌╌╌╌╌╌╌╌╌╌╌╌╌╌╌┼╌╌╌╌╌╌╌╌╌╌╌╌╌╌╌╌╌╌╌╌╌┤\n",
       "│ [7.0, 6.4, ... 5.7] ┆ [3.2, 3.2, ... 2.8] │\n",
       "└─────────────────────┴─────────────────────┘"
      ]
     },
     "execution_count": 10,
     "metadata": {},
     "output_type": "execute_result"
    }
   ],
   "source": [
    "let sepal_df = grouped_lazy.clone().select([\n",
    "    col(\"sepal_length\"),\n",
    "    col(\"sepal_width\"),\n",
    "]).collect()?;\n",
    "sepal_df"
   ]
  },
  {
   "cell_type": "code",
   "execution_count": 11,
   "id": "9e8ee8bc-5ed7-4799-ae24-d3ccaccc336c",
   "metadata": {
    "tags": []
   },
   "outputs": [
    {
     "data": {
      "text/plain": [
       "[[[6.3, 5.8, 7.1, 6.3, 6.5, 7.6, 4.9, 7.3, 6.7, 7.2, 6.5, 6.4, 6.8, 5.7, 5.8, 6.4, 6.5, 7.7, 7.7, 6.0, 6.9, 5.6, 7.7, 6.3, 6.7, 7.2, 6.2, 6.1, 6.4, 7.2, 7.4, 7.9, 6.4, 6.3, 6.1, 7.7, 6.3, 6.4, 6.0, 6.9, 6.7, 6.9, 5.8, 6.8, 6.7, 6.7, 6.3, 6.5, 6.2, 5.9],\n",
       "  [3.3, 2.7, 3.0, 2.9, 3.0, 3.0, 2.5, 2.9, 2.5, 3.6, 3.2, 2.7, 3.0, 2.5, 2.8, 3.2, 3.0, 3.8, 2.6, 2.2, 3.2, 2.8, 2.8, 2.7, 3.3, 3.2, 2.8, 3.0, 2.8, 3.0, 2.8, 3.8, 2.8, 2.8, 2.6, 3.0, 3.4, 3.1, 3.0, 3.1, 3.1, 3.1, 2.7, 3.2, 3.3, 3.0, 2.5, 3.0, 3.4, 3.0]],\n",
       "\n",
       " [[5.1, 4.9, 4.7, 4.6, 5.0, 5.4, 4.6, 5.0, 4.4, 4.9, 5.4, 4.8, 4.8, 4.3, 5.8, 5.7, 5.4, 5.1, 5.7, 5.1, 5.4, 5.1, 4.6, 5.1, 4.8, 5.0, 5.0, 5.2, 5.2, 4.7, 4.8, 5.4, 5.2, 5.5, 4.9, 5.0, 5.5, 4.9, 4.4, 5.1, 5.0, 4.5, 4.4, 5.0, 5.1, 4.8, 5.1, 4.6, 5.3, 5.0],\n",
       "  [3.5, 3.0, 3.2, 3.1, 3.6, 3.9, 3.4, 3.4, 2.9, 3.1, 3.7, 3.4, 3.0, 3.0, 4.0, 4.4, 3.9, 3.5, 3.8, 3.8, 3.4, 3.7, 3.6, 3.3, 3.4, 3.0, 3.4, 3.5, 3.4, 3.2, 3.1, 3.4, 4.1, 4.2, 3.1, 3.2, 3.5, 3.1, 3.0, 3.4, 3.5, 2.3, 3.2, 3.5, 3.8, 3.0, 3.8, 3.2, 3.7, 3.3]],\n",
       "\n",
       " [[7.0, 6.4, 6.9, 5.5, 6.5, 5.7, 6.3, 4.9, 6.6, 5.2, 5.0, 5.9, 6.0, 6.1, 5.6, 6.7, 5.6, 5.8, 6.2, 5.6, 5.9, 6.1, 6.3, 6.1, 6.4, 6.6, 6.8, 6.7, 6.0, 5.7, 5.5, 5.5, 5.8, 6.0, 5.4, 6.0, 6.7, 6.3, 5.6, 5.5, 5.5, 6.1, 5.8, 5.0, 5.6, 5.7, 5.7, 6.2, 5.1, 5.7],\n",
       "  [3.2, 3.2, 3.1, 2.3, 2.8, 2.8, 3.3, 2.4, 2.9, 2.7, 2.0, 3.0, 2.2, 2.9, 2.9, 3.1, 3.0, 2.7, 2.2, 2.5, 3.2, 2.8, 2.5, 2.8, 2.9, 3.0, 2.8, 3.0, 2.9, 2.6, 2.4, 2.4, 2.7, 2.7, 3.0, 3.4, 3.1, 2.3, 3.0, 2.5, 2.6, 3.0, 2.6, 2.3, 2.7, 3.0, 2.9, 2.9, 2.5, 2.8]]], shape=[3, 2, 50], strides=[100, 50, 1], layout=Cc (0x5), const ndim=3"
      ]
     },
     "execution_count": 11,
     "metadata": {},
     "output_type": "execute_result"
    }
   ],
   "source": [
    "// shape: [species, measurement, num_elements]\n",
    "let mut sepal_arr: Array3<f64> = Array3::default((3, 2, 50));\n",
    "\n",
    "for (col_idx, col) in sepal_df.clone().iter().enumerate() {\n",
    "    let s: Array2<f64> = col.list()?.to_ndarray::<Float64Type>()?;\n",
    "    for i in 0..3 {\n",
    "        sepal_arr.slice_mut(s![i, col_idx, ..]).assign(&s.slice(s![i, ..]));\n",
    "    }\n",
    "}\n",
    "\n",
    "sepal_arr"
   ]
  },
  {
   "cell_type": "code",
   "execution_count": 12,
   "id": "9232d16b-ec23-4858-bf39-4a5072c56319",
   "metadata": {
    "tags": []
   },
   "outputs": [
    {
     "data": {
      "application/vnd.plotly.v1+json": {
       "data": [
        {
         "mode": "markers",
         "name": "setosa",
         "type": "scatter",
         "x": [
          6.3,
          5.8,
          7.1,
          6.3,
          6.5,
          7.6,
          4.9,
          7.3,
          6.7,
          7.2,
          6.5,
          6.4,
          6.8,
          5.7,
          5.8,
          6.4,
          6.5,
          7.7,
          7.7,
          6,
          6.9,
          5.6,
          7.7,
          6.3,
          6.7,
          7.2,
          6.2,
          6.1,
          6.4,
          7.2,
          7.4,
          7.9,
          6.4,
          6.3,
          6.1,
          7.7,
          6.3,
          6.4,
          6,
          6.9,
          6.7,
          6.9,
          5.8,
          6.8,
          6.7,
          6.7,
          6.3,
          6.5,
          6.2,
          5.9
         ],
         "y": [
          3.3,
          2.7,
          3,
          2.9,
          3,
          3,
          2.5,
          2.9,
          2.5,
          3.6,
          3.2,
          2.7,
          3,
          2.5,
          2.8,
          3.2,
          3,
          3.8,
          2.6,
          2.2,
          3.2,
          2.8,
          2.8,
          2.7,
          3.3,
          3.2,
          2.8,
          3,
          2.8,
          3,
          2.8,
          3.8,
          2.8,
          2.8,
          2.6,
          3,
          3.4,
          3.1,
          3,
          3.1,
          3.1,
          3.1,
          2.7,
          3.2,
          3.3,
          3,
          2.5,
          3,
          3.4,
          3
         ]
        },
        {
         "mode": "markers",
         "name": "versicolor",
         "type": "scatter",
         "x": [
          5.1,
          4.9,
          4.7,
          4.6,
          5,
          5.4,
          4.6,
          5,
          4.4,
          4.9,
          5.4,
          4.8,
          4.8,
          4.3,
          5.8,
          5.7,
          5.4,
          5.1,
          5.7,
          5.1,
          5.4,
          5.1,
          4.6,
          5.1,
          4.8,
          5,
          5,
          5.2,
          5.2,
          4.7,
          4.8,
          5.4,
          5.2,
          5.5,
          4.9,
          5,
          5.5,
          4.9,
          4.4,
          5.1,
          5,
          4.5,
          4.4,
          5,
          5.1,
          4.8,
          5.1,
          4.6,
          5.3,
          5
         ],
         "y": [
          3.5,
          3,
          3.2,
          3.1,
          3.6,
          3.9,
          3.4,
          3.4,
          2.9,
          3.1,
          3.7,
          3.4,
          3,
          3,
          4,
          4.4,
          3.9,
          3.5,
          3.8,
          3.8,
          3.4,
          3.7,
          3.6,
          3.3,
          3.4,
          3,
          3.4,
          3.5,
          3.4,
          3.2,
          3.1,
          3.4,
          4.1,
          4.2,
          3.1,
          3.2,
          3.5,
          3.1,
          3,
          3.4,
          3.5,
          2.3,
          3.2,
          3.5,
          3.8,
          3,
          3.8,
          3.2,
          3.7,
          3.3
         ]
        },
        {
         "mode": "markers",
         "name": "virginica",
         "type": "scatter",
         "x": [
          7,
          6.4,
          6.9,
          5.5,
          6.5,
          5.7,
          6.3,
          4.9,
          6.6,
          5.2,
          5,
          5.9,
          6,
          6.1,
          5.6,
          6.7,
          5.6,
          5.8,
          6.2,
          5.6,
          5.9,
          6.1,
          6.3,
          6.1,
          6.4,
          6.6,
          6.8,
          6.7,
          6,
          5.7,
          5.5,
          5.5,
          5.8,
          6,
          5.4,
          6,
          6.7,
          6.3,
          5.6,
          5.5,
          5.5,
          6.1,
          5.8,
          5,
          5.6,
          5.7,
          5.7,
          6.2,
          5.1,
          5.7
         ],
         "y": [
          3.2,
          3.2,
          3.1,
          2.3,
          2.8,
          2.8,
          3.3,
          2.4,
          2.9,
          2.7,
          2,
          3,
          2.2,
          2.9,
          2.9,
          3.1,
          3,
          2.7,
          2.2,
          2.5,
          3.2,
          2.8,
          2.5,
          2.8,
          2.9,
          3,
          2.8,
          3,
          2.9,
          2.6,
          2.4,
          2.4,
          2.7,
          2.7,
          3,
          3.4,
          3.1,
          2.3,
          3,
          2.5,
          2.6,
          3,
          2.6,
          2.3,
          2.7,
          3,
          2.9,
          2.9,
          2.5,
          2.8
         ]
        }
       ],
       "layout": {
        "autosize": true,
        "title": {
         "text": "Sepal Measurements"
        },
        "xaxis": {
         "autorange": true,
         "range": [
          4.074463738508682,
          8.125536261491318
         ],
         "showgrid": false,
         "title": {
          "text": "Sepal Length"
         },
         "type": "linear"
        },
        "yaxis": {
         "autorange": true,
         "range": [
          1.8019417475728154,
          4.598058252427185
         ],
         "showgrid": false,
         "title": {
          "text": "Sepal Width"
         },
         "type": "linear"
        }
       }
      },
      "image/png": "[encoded data removed]"
     },
     "execution_count": 12,
     "metadata": {},
     "output_type": "execute_result"
    }
   ],
   "source": [
    "let mut plot = Plot::new();\n",
    "for i in 0..sepal_arr.len_of(Axis(0)) {\n",
    "    let length = sepal_arr.slice(s![i, 0, ..]).to_owned();\n",
    "    let width = sepal_arr.slice(s![i, 1, ..]).to_owned();\n",
    "\n",
    "    let trace = Scatter::new(length, width)\n",
    "        .mode(Mode::Markers)\n",
    "        .name(&species[i]);\n",
    "    plot.add_trace(trace);\n",
    "    \n",
    "    let layout = Layout::new()\n",
    "        .title(Title::new(\"Sepal Measurements\"))\n",
    "        .x_axis(\n",
    "            Axis::new()\n",
    "                .title(Title::new(\"Sepal Length\"))\n",
    "                .show_grid(false)\n",
    "        )\n",
    "        .y_axis(\n",
    "            Axis::new()\n",
    "                .title(Title::new(\"Sepal Width\"))\n",
    "                .show_grid(false)\n",
    "        );\n",
    "    plot.set_layout(layout);\n",
    "}\n",
    "\n",
    "plot"
   ]
  },
  {
   "cell_type": "markdown",
   "id": "3499181e-398e-4560-bdf9-ef09362a29a0",
   "metadata": {},
   "source": [
    "## Petal Measurements"
   ]
  },
  {
   "cell_type": "code",
   "execution_count": 13,
   "id": "b3ccc96a-b8cb-4838-8ea4-698aa909ef84",
   "metadata": {
    "tags": []
   },
   "outputs": [
    {
     "data": {
      "text/plain": [
       "shape: (3, 2)\n",
       "┌─────────────────────┬─────────────────────┐\n",
       "│ petal_length        ┆ petal_width         │\n",
       "│ ---                 ┆ ---                 │\n",
       "│ list[f64]           ┆ list[f64]           │\n",
       "╞═════════════════════╪═════════════════════╡\n",
       "│ [1.4, 1.4, ... 1.4] ┆ [0.2, 0.2, ... 0.2] │\n",
       "├╌╌╌╌╌╌╌╌╌╌╌╌╌╌╌╌╌╌╌╌╌┼╌╌╌╌╌╌╌╌╌╌╌╌╌╌╌╌╌╌╌╌╌┤\n",
       "│ [6.0, 5.1, ... 5.1] ┆ [2.5, 1.9, ... 1.8] │\n",
       "├╌╌╌╌╌╌╌╌╌╌╌╌╌╌╌╌╌╌╌╌╌┼╌╌╌╌╌╌╌╌╌╌╌╌╌╌╌╌╌╌╌╌╌┤\n",
       "│ [4.7, 4.5, ... 4.1] ┆ [1.4, 1.5, ... 1.3] │\n",
       "└─────────────────────┴─────────────────────┘"
      ]
     },
     "execution_count": 13,
     "metadata": {},
     "output_type": "execute_result"
    }
   ],
   "source": [
    "let petal_df = grouped_lazy.clone().select([\n",
    "    col(\"petal_length\"),\n",
    "    col(\"petal_width\"),\n",
    "]).collect()?;\n",
    "petal_df"
   ]
  },
  {
   "cell_type": "code",
   "execution_count": 14,
   "id": "9d3491d9-b914-41d2-a9b1-82fe0e01f837",
   "metadata": {
    "tags": []
   },
   "outputs": [
    {
     "data": {
      "text/plain": [
       "[[[1.4, 1.4, 1.3, 1.5, 1.4, 1.7, 1.4, 1.5, 1.4, 1.5, 1.5, 1.6, 1.4, 1.1, 1.2, 1.5, 1.3, 1.4, 1.7, 1.5, 1.7, 1.5, 1.0, 1.7, 1.9, 1.6, 1.6, 1.5, 1.4, 1.6, 1.6, 1.5, 1.5, 1.4, 1.5, 1.2, 1.3, 1.5, 1.3, 1.5, 1.3, 1.3, 1.3, 1.6, 1.9, 1.4, 1.6, 1.4, 1.5, 1.4],\n",
       "  [0.2, 0.2, 0.2, 0.2, 0.2, 0.4, 0.3, 0.2, 0.2, 0.1, 0.2, 0.2, 0.1, 0.1, 0.2, 0.4, 0.4, 0.3, 0.3, 0.3, 0.2, 0.4, 0.2, 0.5, 0.2, 0.2, 0.4, 0.2, 0.2, 0.2, 0.2, 0.4, 0.1, 0.2, 0.1, 0.2, 0.2, 0.1, 0.2, 0.2, 0.3, 0.3, 0.2, 0.6, 0.4, 0.3, 0.2, 0.2, 0.2, 0.2]],\n",
       "\n",
       " [[6.0, 5.1, 5.9, 5.6, 5.8, 6.6, 4.5, 6.3, 5.8, 6.1, 5.1, 5.3, 5.5, 5.0, 5.1, 5.3, 5.5, 6.7, 6.9, 5.0, 5.7, 4.9, 6.7, 4.9, 5.7, 6.0, 4.8, 4.9, 5.6, 5.8, 6.1, 6.4, 5.6, 5.1, 5.6, 6.1, 5.6, 5.5, 4.8, 5.4, 5.6, 5.1, 5.1, 5.9, 5.7, 5.2, 5.0, 5.2, 5.4, 5.1],\n",
       "  [2.5, 1.9, 2.1, 1.8, 2.2, 2.1, 1.7, 1.8, 1.8, 2.5, 2.0, 1.9, 2.1, 2.0, 2.4, 2.3, 1.8, 2.2, 2.3, 1.5, 2.3, 2.0, 2.0, 1.8, 2.1, 1.8, 1.8, 1.8, 2.1, 1.6, 1.9, 2.0, 2.2, 1.5, 1.4, 2.3, 2.4, 1.8, 1.8, 2.1, 2.4, 2.3, 1.9, 2.3, 2.5, 2.3, 1.9, 2.0, 2.3, 1.8]],\n",
       "\n",
       " [[4.7, 4.5, 4.9, 4.0, 4.6, 4.5, 4.7, 3.3, 4.6, 3.9, 3.5, 4.2, 4.0, 4.7, 3.6, 4.4, 4.5, 4.1, 4.5, 3.9, 4.8, 4.0, 4.9, 4.7, 4.3, 4.4, 4.8, 5.0, 4.5, 3.5, 3.8, 3.7, 3.9, 5.1, 4.5, 4.5, 4.7, 4.4, 4.1, 4.0, 4.4, 4.6, 4.0, 3.3, 4.2, 4.2, 4.2, 4.3, 3.0, 4.1],\n",
       "  [1.4, 1.5, 1.5, 1.3, 1.5, 1.3, 1.6, 1.0, 1.3, 1.4, 1.0, 1.5, 1.0, 1.4, 1.3, 1.4, 1.5, 1.0, 1.5, 1.1, 1.8, 1.3, 1.5, 1.2, 1.3, 1.4, 1.4, 1.7, 1.5, 1.0, 1.1, 1.0, 1.2, 1.6, 1.5, 1.6, 1.5, 1.3, 1.3, 1.3, 1.2, 1.4, 1.2, 1.0, 1.3, 1.2, 1.3, 1.3, 1.1, 1.3]]], shape=[3, 2, 50], strides=[100, 50, 1], layout=Cc (0x5), const ndim=3"
      ]
     },
     "execution_count": 14,
     "metadata": {},
     "output_type": "execute_result"
    }
   ],
   "source": [
    "// shape: [species, measurement, num_elements]\n",
    "let mut petal_arr: Array3<f64> = Array3::default((3, 2, 50));\n",
    "\n",
    "for (col_idx, col) in petal_df.clone().iter().enumerate() {\n",
    "    let p: Array2<f64> = col.list()?.to_ndarray::<Float64Type>()?;\n",
    "    for i in 0..3 {\n",
    "        petal_arr.slice_mut(s![i, col_idx, ..]).assign(&p.slice(s![i, ..]));\n",
    "    }\n",
    "}\n",
    "\n",
    "petal_arr"
   ]
  },
  {
   "cell_type": "code",
   "execution_count": 15,
   "id": "f2105987-be05-4781-8a29-d3060c6c876e",
   "metadata": {
    "tags": []
   },
   "outputs": [
    {
     "data": {
      "application/vnd.plotly.v1+json": {
       "data": [
        {
         "mode": "markers",
         "name": "setosa",
         "type": "scatter",
         "x": [
          1.4,
          1.4,
          1.3,
          1.5,
          1.4,
          1.7,
          1.4,
          1.5,
          1.4,
          1.5,
          1.5,
          1.6,
          1.4,
          1.1,
          1.2,
          1.5,
          1.3,
          1.4,
          1.7,
          1.5,
          1.7,
          1.5,
          1,
          1.7,
          1.9,
          1.6,
          1.6,
          1.5,
          1.4,
          1.6,
          1.6,
          1.5,
          1.5,
          1.4,
          1.5,
          1.2,
          1.3,
          1.5,
          1.3,
          1.5,
          1.3,
          1.3,
          1.3,
          1.6,
          1.9,
          1.4,
          1.6,
          1.4,
          1.5,
          1.4
         ],
         "y": [
          0.2,
          0.2,
          0.2,
          0.2,
          0.2,
          0.4,
          0.3,
          0.2,
          0.2,
          0.1,
          0.2,
          0.2,
          0.1,
          0.1,
          0.2,
          0.4,
          0.4,
          0.3,
          0.3,
          0.3,
          0.2,
          0.4,
          0.2,
          0.5,
          0.2,
          0.2,
          0.4,
          0.2,
          0.2,
          0.2,
          0.2,
          0.4,
          0.1,
          0.2,
          0.1,
          0.2,
          0.2,
          0.1,
          0.2,
          0.2,
          0.3,
          0.3,
          0.2,
          0.6,
          0.4,
          0.3,
          0.2,
          0.2,
          0.2,
          0.2
         ]
        },
        {
         "mode": "markers",
         "name": "versicolor",
         "type": "scatter",
         "x": [
          6,
          5.1,
          5.9,
          5.6,
          5.8,
          6.6,
          4.5,
          6.3,
          5.8,
          6.1,
          5.1,
          5.3,
          5.5,
          5,
          5.1,
          5.3,
          5.5,
          6.7,
          6.9,
          5,
          5.7,
          4.9,
          6.7,
          4.9,
          5.7,
          6,
          4.8,
          4.9,
          5.6,
          5.8,
          6.1,
          6.4,
          5.6,
          5.1,
          5.6,
          6.1,
          5.6,
          5.5,
          4.8,
          5.4,
          5.6,
          5.1,
          5.1,
          5.9,
          5.7,
          5.2,
          5,
          5.2,
          5.4,
          5.1
         ],
         "y": [
          2.5,
          1.9,
          2.1,
          1.8,
          2.2,
          2.1,
          1.7,
          1.8,
          1.8,
          2.5,
          2,
          1.9,
          2.1,
          2,
          2.4,
          2.3,
          1.8,
          2.2,
          2.3,
          1.5,
          2.3,
          2,
          2,
          1.8,
          2.1,
          1.8,
          1.8,
          1.8,
          2.1,
          1.6,
          1.9,
          2,
          2.2,
          1.5,
          1.4,
          2.3,
          2.4,
          1.8,
          1.8,
          2.1,
          2.4,
          2.3,
          1.9,
          2.3,
          2.5,
          2.3,
          1.9,
          2,
          2.3,
          1.8
         ]
        },
        {
         "mode": "markers",
         "name": "virginica",
         "type": "scatter",
         "x": [
          4.7,
          4.5,
          4.9,
          4,
          4.6,
          4.5,
          4.7,
          3.3,
          4.6,
          3.9,
          3.5,
          4.2,
          4,
          4.7,
          3.6,
          4.4,
          4.5,
          4.1,
          4.5,
          3.9,
          4.8,
          4,
          4.9,
          4.7,
          4.3,
          4.4,
          4.8,
          5,
          4.5,
          3.5,
          3.8,
          3.7,
          3.9,
          5.1,
          4.5,
          4.5,
          4.7,
          4.4,
          4.1,
          4,
          4.4,
          4.6,
          4,
          3.3,
          4.2,
          4.2,
          4.2,
          4.3,
          3,
          4.1
         ],
         "y": [
          1.4,
          1.5,
          1.5,
          1.3,
          1.5,
          1.3,
          1.6,
          1,
          1.3,
          1.4,
          1,
          1.5,
          1,
          1.4,
          1.3,
          1.4,
          1.5,
          1,
          1.5,
          1.1,
          1.8,
          1.3,
          1.5,
          1.2,
          1.3,
          1.4,
          1.4,
          1.7,
          1.5,
          1,
          1.1,
          1,
          1.2,
          1.6,
          1.5,
          1.6,
          1.5,
          1.3,
          1.3,
          1.3,
          1.2,
          1.4,
          1.2,
          1,
          1.3,
          1.2,
          1.3,
          1.3,
          1.1,
          1.3
         ]
        }
       ],
       "layout": {
        "autosize": true,
        "title": {
         "text": "Petal Measurements"
        },
        "xaxis": {
         "autorange": true,
         "range": [
          0.6303711270003405,
          7.26962887299966
         ],
         "title": {
          "text": "Petal Length"
         },
         "type": "linear"
        },
        "yaxis": {
         "autorange": true,
         "range": [
          -0.09805825242718444,
          2.6980582524271846
         ],
         "title": {
          "text": "Petal Width"
         },
         "type": "linear"
        }
       }
      },
      "image/png": "[encoded data removed]"
     },
     "execution_count": 15,
     "metadata": {},
     "output_type": "execute_result"
    }
   ],
   "source": [
    "let mut plot = Plot::new();\n",
    "for i in 0..petal_arr.len_of(Axis(0)) {\n",
    "    let length = petal_arr.slice(s![i, 0, ..]).to_owned();\n",
    "    let width = petal_arr.slice(s![i, 1, ..]).to_owned();\n",
    "\n",
    "    let trace = Scatter::new(length, width)\n",
    "        .mode(Mode::Markers)\n",
    "        .name(&species[i]);\n",
    "    plot.add_trace(trace);\n",
    "    \n",
    "    let layout = Layout::new()\n",
    "        .title(Title::new(\"Petal Measurements\"))\n",
    "        .x_axis(Axis::new().title(Title::new(\"Petal Length\")))\n",
    "        .y_axis(Axis::new().title(Title::new(\"Petal Width\")));\n",
    "    plot.set_layout(layout);\n",
    "}\n",
    "\n",
    "plot"
   ]
  }
 ],
 "metadata": {
  "kernelspec": {
   "display_name": "Rust",
   "language": "rust",
   "name": "rust"
  },
  "language_info": {
   "codemirror_mode": "rust",
   "file_extension": ".rs",
   "mimetype": "text/rust",
   "name": "Rust",
   "pygment_lexer": "rust",
   "version": ""
  }
 },
 "nbformat": 4,
 "nbformat_minor": 5
}
