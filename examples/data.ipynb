{
 "cells": [
  {
   "cell_type": "markdown",
   "id": "ebead1f2-3155-4add-b1db-70c01f2a722a",
   "metadata": {},
   "source": [
    "## Jupyter Kernel for Rust Programming Language\n",
    "\n",
    "[evcxr] is an evaluation context for Rust. It is an unofficial google project that offers several related crates, one of which is [evcxr_jupyter] which is a Juypter Kernel for the Rust programming language.\n",
    "\n",
    "BTW, if you're wondering how to pronounce `EvCxR`; it's pronounced *\"Evic-ser\"* cos it's an **EV**aluation Conte**X**t for **R**ust.\n",
    "\n",
    "You can take a [tour of the Juypter Kernel][tour] to get a feel for using Rust in Jupyter Notebooks.\n",
    "\n",
    "## Setup\n",
    "\n",
    "You can setup `evcxr_jupyter` by running the following commands:\n",
    "\n",
    "```sh\n",
    "cargo install evcxr_jupyter\n",
    "evcxr_jupyter --install\n",
    "```\n",
    "\n",
    "Check full installation instructions [here][install].\n",
    "\n",
    "[evcxr]: https://github.com/google/evcxr\n",
    "[evcxr_jupyter]: https://github.com/google/evcxr/blob/main/evcxr_jupyter/README.md\n",
    "[install]: https://github.com/google/evcxr/blob/main/evcxr_jupyter/README.md#installation\n",
    "[tour]: https://github.com/google/evcxr/blob/main/evcxr_jupyter/samples/evcxr_jupyter_tour.ipynb"
   ]
  },
  {
   "cell_type": "markdown",
   "id": "1b8d82ba-dcbf-4b9d-acff-90521863f1af",
   "metadata": {},
   "source": [
    "# Iris Dataset"
   ]
  },
  {
   "cell_type": "code",
   "execution_count": 2,
   "id": "a831e056-1685-4d8f-b2aa-77a742dae9b0",
   "metadata": {},
   "outputs": [],
   "source": [
    "// Add dependencies eq. of Cargo.toml\n",
    ":dep eyre = \"0.6.8\"\n",
    ":dep ndarray = \"0.15.6\"\n",
    ":dep reqwest = { version = \"0.11.13\", features = [\"blocking\"] }\n",
    ":dep polars = { version = \"0.26.1\", features = [\"ndarray\", \"lazy\"] }"
   ]
  },
  {
   "cell_type": "code",
   "execution_count": 3,
   "id": "d0516554-1209-473e-ad44-15226dcc23b1",
   "metadata": {},
   "outputs": [],
   "source": [
    "use std::{io::Cursor, fs::{self, File}, path::Path};\n",
    "\n",
    "use eyre::Result;\n",
    "use ndarray::prelude::*;\n",
    "use polars::prelude::*;\n",
    "use reqwest::blocking::Client;"
   ]
  },
  {
   "cell_type": "code",
   "execution_count": 4,
   "id": "6d2a954e-6dad-48ab-a97a-7a7525cf2b18",
   "metadata": {},
   "outputs": [],
   "source": [
    "/// Load iris data from a file path if it exists or download\n",
    "/// and load it into a `DataFrame`.\n",
    "fn load_data(path: Option<&Path>) -> Result<DataFrame> {\n",
    "    let df = match path {\n",
    "        Some(p) if p.is_file() => {\n",
    "            CsvReader::from_path(&p)?\n",
    "                .has_header(true)\n",
    "                .finish()?\n",
    "        }\n",
    "        _ => {\n",
    "            let data: Vec<u8> = Client::new()\n",
    "                .get(\"https://j.mp/iriscsv\")\n",
    "                .send()?\n",
    "                .text()?\n",
    "                .bytes()\n",
    "                .collect();\n",
    "            \n",
    "            CsvReader::new(Cursor::new(data))\n",
    "                .has_header(true)\n",
    "                .finish()?\n",
    "        }\n",
    "    };\n",
    "\n",
    "    Ok(df)\n",
    "}\n",
    "\n",
    "\n",
    "/// Save dataframe to disk.\n",
    "pub fn save_df(df: &mut DataFrame, path: &Path) -> Result<()> {\n",
    "  if !path.exists() {\n",
    "    // See if parent folder exists.\n",
    "    let parent = path.parent().unwrap();\n",
    "    if !parent.is_dir() {\n",
    "      fs::create_dir_all(&parent).unwrap();\n",
    "    }\n",
    "    // Create file.\n",
    "    let mut file = File::create(&path)?;\n",
    "\n",
    "    // Save dataframe.\n",
    "    CsvWriter::new(&mut file).finish(df)?;\n",
    "    println!(\"File saved to:  {}\", path.display());\n",
    "  } else {\n",
    "    println!(\"File already exists.\");\n",
    "  }\n",
    "\n",
    "  Ok(())\n",
    "}\n"
   ]
  },
  {
   "cell_type": "code",
   "execution_count": 5,
   "id": "240d3467-bc35-4651-b10f-4d90a2b37838",
   "metadata": {},
   "outputs": [
    {
     "data": {
      "text/plain": [
       "shape: (150, 5)\n",
       "┌──────────────┬─────────────┬──────────────┬─────────────┬───────────┐\n",
       "│ sepal_length ┆ sepal_width ┆ petal_length ┆ petal_width ┆ species   │\n",
       "│ ---          ┆ ---         ┆ ---          ┆ ---         ┆ ---       │\n",
       "│ f64          ┆ f64         ┆ f64          ┆ f64         ┆ str       │\n",
       "╞══════════════╪═════════════╪══════════════╪═════════════╪═══════════╡\n",
       "│ 5.1          ┆ 3.5         ┆ 1.4          ┆ 0.2         ┆ setosa    │\n",
       "├╌╌╌╌╌╌╌╌╌╌╌╌╌╌┼╌╌╌╌╌╌╌╌╌╌╌╌╌┼╌╌╌╌╌╌╌╌╌╌╌╌╌╌┼╌╌╌╌╌╌╌╌╌╌╌╌╌┼╌╌╌╌╌╌╌╌╌╌╌┤\n",
       "│ 4.9          ┆ 3.0         ┆ 1.4          ┆ 0.2         ┆ setosa    │\n",
       "├╌╌╌╌╌╌╌╌╌╌╌╌╌╌┼╌╌╌╌╌╌╌╌╌╌╌╌╌┼╌╌╌╌╌╌╌╌╌╌╌╌╌╌┼╌╌╌╌╌╌╌╌╌╌╌╌╌┼╌╌╌╌╌╌╌╌╌╌╌┤\n",
       "│ 4.7          ┆ 3.2         ┆ 1.3          ┆ 0.2         ┆ setosa    │\n",
       "├╌╌╌╌╌╌╌╌╌╌╌╌╌╌┼╌╌╌╌╌╌╌╌╌╌╌╌╌┼╌╌╌╌╌╌╌╌╌╌╌╌╌╌┼╌╌╌╌╌╌╌╌╌╌╌╌╌┼╌╌╌╌╌╌╌╌╌╌╌┤\n",
       "│ 4.6          ┆ 3.1         ┆ 1.5          ┆ 0.2         ┆ setosa    │\n",
       "├╌╌╌╌╌╌╌╌╌╌╌╌╌╌┼╌╌╌╌╌╌╌╌╌╌╌╌╌┼╌╌╌╌╌╌╌╌╌╌╌╌╌╌┼╌╌╌╌╌╌╌╌╌╌╌╌╌┼╌╌╌╌╌╌╌╌╌╌╌┤\n",
       "│ ...          ┆ ...         ┆ ...          ┆ ...         ┆ ...       │\n",
       "├╌╌╌╌╌╌╌╌╌╌╌╌╌╌┼╌╌╌╌╌╌╌╌╌╌╌╌╌┼╌╌╌╌╌╌╌╌╌╌╌╌╌╌┼╌╌╌╌╌╌╌╌╌╌╌╌╌┼╌╌╌╌╌╌╌╌╌╌╌┤\n",
       "│ 6.3          ┆ 2.5         ┆ 5.0          ┆ 1.9         ┆ virginica │\n",
       "├╌╌╌╌╌╌╌╌╌╌╌╌╌╌┼╌╌╌╌╌╌╌╌╌╌╌╌╌┼╌╌╌╌╌╌╌╌╌╌╌╌╌╌┼╌╌╌╌╌╌╌╌╌╌╌╌╌┼╌╌╌╌╌╌╌╌╌╌╌┤\n",
       "│ 6.5          ┆ 3.0         ┆ 5.2          ┆ 2.0         ┆ virginica │\n",
       "├╌╌╌╌╌╌╌╌╌╌╌╌╌╌┼╌╌╌╌╌╌╌╌╌╌╌╌╌┼╌╌╌╌╌╌╌╌╌╌╌╌╌╌┼╌╌╌╌╌╌╌╌╌╌╌╌╌┼╌╌╌╌╌╌╌╌╌╌╌┤\n",
       "│ 6.2          ┆ 3.4         ┆ 5.4          ┆ 2.3         ┆ virginica │\n",
       "├╌╌╌╌╌╌╌╌╌╌╌╌╌╌┼╌╌╌╌╌╌╌╌╌╌╌╌╌┼╌╌╌╌╌╌╌╌╌╌╌╌╌╌┼╌╌╌╌╌╌╌╌╌╌╌╌╌┼╌╌╌╌╌╌╌╌╌╌╌┤\n",
       "│ 5.9          ┆ 3.0         ┆ 5.1          ┆ 1.8         ┆ virginica │\n",
       "└──────────────┴─────────────┴──────────────┴─────────────┴───────────┘"
      ]
     },
     "execution_count": 5,
     "metadata": {},
     "output_type": "execute_result"
    }
   ],
   "source": [
    "// Download & load iris dataset into a dataframe.\n",
    "// let df = load_data(None).unwrap();\n",
    "\n",
    "// Load iris dataset from file into a dataframe.\n",
    "let path = Path::new(\"../data/iris.csv\");\n",
    "let df = load_data(Some(&path)).unwrap();\n",
    "\n",
    "df"
   ]
  },
  {
   "cell_type": "code",
   "execution_count": 6,
   "id": "c0e56ad7-5c40-418e-bab5-0d65fb5a95fa",
   "metadata": {},
   "outputs": [
    {
     "data": {
      "text/plain": [
       "[\"sepal_length\", \"sepal_width\", \"petal_length\", \"petal_width\", \"species\"]"
      ]
     },
     "execution_count": 6,
     "metadata": {},
     "output_type": "execute_result"
    }
   ],
   "source": [
    "// Get the list of column names.\n",
    "let columns = df.get_column_names_owned(); \n",
    "columns"
   ]
  },
  {
   "cell_type": "code",
   "execution_count": 7,
   "id": "d80ba107-8c68-46ab-b64f-6217aeb08fa6",
   "metadata": {},
   "outputs": [
    {
     "data": {
      "text/plain": [
       "[\"sepal_length\", \"sepal_width\", \"petal_length\", \"petal_width\"]"
      ]
     },
     "execution_count": 7,
     "metadata": {},
     "output_type": "execute_result"
    }
   ],
   "source": [
    "// Feature columns.\n",
    "&columns[..&columns.len() - 1]"
   ]
  },
  {
   "cell_type": "code",
   "execution_count": 8,
   "id": "3b9ec37b-91b8-4e54-9b29-0ad2c9b0dd21",
   "metadata": {},
   "outputs": [
    {
     "data": {
      "text/plain": [
       "[\"species\"]"
      ]
     },
     "execution_count": 8,
     "metadata": {},
     "output_type": "execute_result"
    }
   ],
   "source": [
    "// Tareget columns.\n",
    "&columns[&columns.len() - 1..]"
   ]
  },
  {
   "cell_type": "code",
   "execution_count": 9,
   "id": "65e132ca-2b9b-4cd4-8940-ca8b800746f8",
   "metadata": {},
   "outputs": [
    {
     "data": {
      "text/plain": [
       "shape: (150, 4)\n",
       "┌──────────────┬─────────────┬──────────────┬─────────────┐\n",
       "│ sepal_length ┆ sepal_width ┆ petal_length ┆ petal_width │\n",
       "│ ---          ┆ ---         ┆ ---          ┆ ---         │\n",
       "│ f64          ┆ f64         ┆ f64          ┆ f64         │\n",
       "╞══════════════╪═════════════╪══════════════╪═════════════╡\n",
       "│ 5.1          ┆ 3.5         ┆ 1.4          ┆ 0.2         │\n",
       "├╌╌╌╌╌╌╌╌╌╌╌╌╌╌┼╌╌╌╌╌╌╌╌╌╌╌╌╌┼╌╌╌╌╌╌╌╌╌╌╌╌╌╌┼╌╌╌╌╌╌╌╌╌╌╌╌╌┤\n",
       "│ 4.9          ┆ 3.0         ┆ 1.4          ┆ 0.2         │\n",
       "├╌╌╌╌╌╌╌╌╌╌╌╌╌╌┼╌╌╌╌╌╌╌╌╌╌╌╌╌┼╌╌╌╌╌╌╌╌╌╌╌╌╌╌┼╌╌╌╌╌╌╌╌╌╌╌╌╌┤\n",
       "│ 4.7          ┆ 3.2         ┆ 1.3          ┆ 0.2         │\n",
       "├╌╌╌╌╌╌╌╌╌╌╌╌╌╌┼╌╌╌╌╌╌╌╌╌╌╌╌╌┼╌╌╌╌╌╌╌╌╌╌╌╌╌╌┼╌╌╌╌╌╌╌╌╌╌╌╌╌┤\n",
       "│ 4.6          ┆ 3.1         ┆ 1.5          ┆ 0.2         │\n",
       "├╌╌╌╌╌╌╌╌╌╌╌╌╌╌┼╌╌╌╌╌╌╌╌╌╌╌╌╌┼╌╌╌╌╌╌╌╌╌╌╌╌╌╌┼╌╌╌╌╌╌╌╌╌╌╌╌╌┤\n",
       "│ ...          ┆ ...         ┆ ...          ┆ ...         │\n",
       "├╌╌╌╌╌╌╌╌╌╌╌╌╌╌┼╌╌╌╌╌╌╌╌╌╌╌╌╌┼╌╌╌╌╌╌╌╌╌╌╌╌╌╌┼╌╌╌╌╌╌╌╌╌╌╌╌╌┤\n",
       "│ 6.3          ┆ 2.5         ┆ 5.0          ┆ 1.9         │\n",
       "├╌╌╌╌╌╌╌╌╌╌╌╌╌╌┼╌╌╌╌╌╌╌╌╌╌╌╌╌┼╌╌╌╌╌╌╌╌╌╌╌╌╌╌┼╌╌╌╌╌╌╌╌╌╌╌╌╌┤\n",
       "│ 6.5          ┆ 3.0         ┆ 5.2          ┆ 2.0         │\n",
       "├╌╌╌╌╌╌╌╌╌╌╌╌╌╌┼╌╌╌╌╌╌╌╌╌╌╌╌╌┼╌╌╌╌╌╌╌╌╌╌╌╌╌╌┼╌╌╌╌╌╌╌╌╌╌╌╌╌┤\n",
       "│ 6.2          ┆ 3.4         ┆ 5.4          ┆ 2.3         │\n",
       "├╌╌╌╌╌╌╌╌╌╌╌╌╌╌┼╌╌╌╌╌╌╌╌╌╌╌╌╌┼╌╌╌╌╌╌╌╌╌╌╌╌╌╌┼╌╌╌╌╌╌╌╌╌╌╌╌╌┤\n",
       "│ 5.9          ┆ 3.0         ┆ 5.1          ┆ 1.8         │\n",
       "└──────────────┴─────────────┴──────────────┴─────────────┘"
      ]
     },
     "execution_count": 9,
     "metadata": {},
     "output_type": "execute_result"
    }
   ],
   "source": [
    "// Features dataframe.\n",
    "let feature_df = df.clone().select(&columns[..&columns.len() - 1]).unwrap();\n",
    "feature_df"
   ]
  },
  {
   "cell_type": "code",
   "execution_count": 10,
   "id": "c70f86a9-cda7-486d-9ac6-30d0c6767d87",
   "metadata": {},
   "outputs": [
    {
     "data": {
      "text/plain": [
       "shape: (150, 1)\n",
       "┌───────────┐\n",
       "│ species   │\n",
       "│ ---       │\n",
       "│ str       │\n",
       "╞═══════════╡\n",
       "│ setosa    │\n",
       "├╌╌╌╌╌╌╌╌╌╌╌┤\n",
       "│ setosa    │\n",
       "├╌╌╌╌╌╌╌╌╌╌╌┤\n",
       "│ setosa    │\n",
       "├╌╌╌╌╌╌╌╌╌╌╌┤\n",
       "│ setosa    │\n",
       "├╌╌╌╌╌╌╌╌╌╌╌┤\n",
       "│ ...       │\n",
       "├╌╌╌╌╌╌╌╌╌╌╌┤\n",
       "│ virginica │\n",
       "├╌╌╌╌╌╌╌╌╌╌╌┤\n",
       "│ virginica │\n",
       "├╌╌╌╌╌╌╌╌╌╌╌┤\n",
       "│ virginica │\n",
       "├╌╌╌╌╌╌╌╌╌╌╌┤\n",
       "│ virginica │\n",
       "└───────────┘"
      ]
     },
     "execution_count": 10,
     "metadata": {},
     "output_type": "execute_result"
    }
   ],
   "source": [
    "// Targets dataframe.\n",
    "let target_df = df.clone().select(&columns[&columns.len() - 1..]).unwrap();\n",
    "target_df"
   ]
  },
  {
   "cell_type": "code",
   "execution_count": null,
   "id": "de4a3633-ab2c-4f51-9fbc-6a0f7675f3f1",
   "metadata": {},
   "outputs": [],
   "source": []
  }
 ],
 "metadata": {
  "kernelspec": {
   "display_name": "Rust",
   "language": "rust",
   "name": "rust"
  },
  "language_info": {
   "codemirror_mode": "rust",
   "file_extension": ".rs",
   "mimetype": "text/rust",
   "name": "Rust",
   "pygment_lexer": "rust",
   "version": ""
  }
 },
 "nbformat": 4,
 "nbformat_minor": 5
}
