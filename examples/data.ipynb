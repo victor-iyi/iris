{
 "cells": [
  {
   "cell_type": "markdown",
   "id": "ebead1f2-3155-4add-b1db-70c01f2a722a",
   "metadata": {},
   "source": [
    "## Jupyter Kernel for Rust Programming Language\n",
    "\n",
    "[evcxr] is an evaluation context for Rust. It is an unofficial google project that offers several related crates, one of which is [evcxr_jupyter] which is a Juypter Kernel for the Rust programming language.\n",
    "\n",
    "BTW, if you're wondering how to pronounce `EvCxR`; it's pronounced *\"Evic-ser\"* cos it's an **EV**aluation Conte**X**t for **R**ust.\n",
    "\n",
    "You can take a [tour of the Juypter Kernel][tour] to get a feel for using Rust in Jupyter Notebooks.\n",
    "\n",
    "## Setup\n",
    "\n",
    "You can setup `evcxr_jupyter` by running the following commands:\n",
    "\n",
    "```sh\n",
    "cargo install evcxr_jupyter\n",
    "evcxr_jupyter --install\n",
    "```\n",
    "\n",
    "Check full installation instructions [here][install].\n",
    "\n",
    "### Plotly Jupyter Support\n",
    "\n",
    "To show plots in Jupyter notebook, install the jupyterlab extension by executing the following command:\n",
    "\n",
    "```sh\n",
    "jupyter labextension install jupyterlab-plotly\n",
    "```\n",
    "\n",
    "Visit the [Jupyter Support] for plotly guide for more installation help.\n",
    "\n",
    "[evcxr]: https://github.com/google/evcxr\n",
    "[evcxr_jupyter]: https://github.com/google/evcxr/blob/main/evcxr_jupyter/README.md\n",
    "[install]: https://github.com/google/evcxr/blob/main/evcxr_jupyter/README.md#installation\n",
    "[tour]: https://github.com/google/evcxr/blob/main/evcxr_jupyter/samples/evcxr_jupyter_tour.ipynb\n",
    "[Jupyter Support]: https://igiagkiozis.github.io/plotly/content/fundamentals/jupyter_support.html"
   ]
  },
  {
   "cell_type": "markdown",
   "id": "1b8d82ba-dcbf-4b9d-acff-90521863f1af",
   "metadata": {},
   "source": [
    "# Iris Dataset"
   ]
  },
  {
   "cell_type": "markdown",
   "id": "3ce29d1b-d016-4f66-8289-b3bb67a50215",
   "metadata": {},
   "source": [
    "## Install and add dependencies"
   ]
  },
  {
   "cell_type": "code",
   "execution_count": 2,
   "id": "a831e056-1685-4d8f-b2aa-77a742dae9b0",
   "metadata": {},
   "outputs": [],
   "source": [
    "// Install dependecies: eq. of add it to \"Cargo.toml\".\n",
    ":dep eyre = \"0.6.8\"\n",
    ":dep ndarray = \"0.15.6\"\n",
    ":dep reqwest = { version = \"0.11.13\", features = [\"blocking\"] }\n",
    ":dep polars = { version = \"0.26.1\", features = [\"ndarray\", \"lazy\", \"describe\", \"dtype-full\"] }"
   ]
  },
  {
   "cell_type": "code",
   "execution_count": 3,
   "id": "d0516554-1209-473e-ad44-15226dcc23b1",
   "metadata": {},
   "outputs": [],
   "source": [
    "use std::{io::Cursor, fs::{self, File}, path::Path};\n",
    "\n",
    "use eyre::Result;\n",
    "use ndarray::prelude::*;\n",
    "use polars::prelude::*;\n",
    "use reqwest::blocking::Client;"
   ]
  },
  {
   "cell_type": "markdown",
   "id": "d5cc2666-6141-43e3-9cc5-709a967d11cb",
   "metadata": {},
   "source": [
    "## Load data into `DataFrame` or `LazyFrame`"
   ]
  },
  {
   "cell_type": "code",
   "execution_count": 4,
   "id": "6d2a954e-6dad-48ab-a97a-7a7525cf2b18",
   "metadata": {},
   "outputs": [],
   "source": [
    "/// Save dataframe to disk.\n",
    "pub fn save_df(df: &mut DataFrame, path: &Path) -> Result<()> {\n",
    "  if !path.exists() {\n",
    "    // See if parent folder exists.\n",
    "    let parent = path.parent().unwrap();\n",
    "    if !parent.is_dir() {\n",
    "      std::fs::create_dir_all(&parent).unwrap();\n",
    "    }\n",
    "    // Create file.\n",
    "    let mut file = File::create(&path)?;\n",
    "\n",
    "    // Save dataframe.\n",
    "    CsvWriter::new(&mut file).finish(df)?;\n",
    "    println!(\"File saved to:  {}\", path.display());\n",
    "  } else {\n",
    "    println!(\"File already exists.\");\n",
    "  }\n",
    "\n",
    "  Ok(())\n",
    "}\n",
    "\n",
    "/// Load Iris dataset into a dataframe from file path if given, otherwise,\n",
    "/// download it.\n",
    "pub fn load_data(path: Option<&Path>) -> Result<LazyFrame> {\n",
    "  // Overwrite the \"species\" schema.\n",
    "  let fields = [Field::new(\"species\", DataType::Categorical(None))];\n",
    "  let schema = Schema::from(fields.into_iter());\n",
    "\n",
    "  let df = match path {\n",
    "    // Load data from file (if it exists).\n",
    "    Some(p) if p.is_file() => {\n",
    "      println!(\"Loading data from {}\", p.display());\n",
    "\n",
    "      LazyCsvReader::new(&p)\n",
    "        .has_header(true)\n",
    "        .with_dtype_overwrite(Some(&schema))\n",
    "        .finish()?\n",
    "    }\n",
    "    // Download data.\n",
    "    _ => {\n",
    "      println!(\"Downloading data...\");\n",
    "\n",
    "      let data: Vec<u8> = Client::new()\n",
    "        .get(\"https://j.mp/iriscsv\")\n",
    "        .send()?\n",
    "        .text()?\n",
    "        .bytes()\n",
    "        .collect();\n",
    "\n",
    "      CsvReader::new(Cursor::new(data))\n",
    "        .has_header(true)\n",
    "        .with_dtypes(Some(&schema))\n",
    "        .finish()?\n",
    "        .lazy()\n",
    "    }\n",
    "  };\n",
    "\n",
    "  Ok(df)\n",
    "}"
   ]
  },
  {
   "cell_type": "code",
   "execution_count": 5,
   "id": "240d3467-bc35-4651-b10f-4d90a2b37838",
   "metadata": {},
   "outputs": [
    {
     "name": "stdout",
     "output_type": "stream",
     "text": [
      "Loading data from ../data/iris.csv\n",
      "File already exists.\n"
     ]
    },
    {
     "data": {
      "text/plain": [
       "shape: (150, 5)\n",
       "┌──────────────┬─────────────┬──────────────┬─────────────┬───────────┐\n",
       "│ sepal_length ┆ sepal_width ┆ petal_length ┆ petal_width ┆ species   │\n",
       "│ ---          ┆ ---         ┆ ---          ┆ ---         ┆ ---       │\n",
       "│ f64          ┆ f64         ┆ f64          ┆ f64         ┆ cat       │\n",
       "╞══════════════╪═════════════╪══════════════╪═════════════╪═══════════╡\n",
       "│ 5.1          ┆ 3.5         ┆ 1.4          ┆ 0.2         ┆ setosa    │\n",
       "├╌╌╌╌╌╌╌╌╌╌╌╌╌╌┼╌╌╌╌╌╌╌╌╌╌╌╌╌┼╌╌╌╌╌╌╌╌╌╌╌╌╌╌┼╌╌╌╌╌╌╌╌╌╌╌╌╌┼╌╌╌╌╌╌╌╌╌╌╌┤\n",
       "│ 4.9          ┆ 3.0         ┆ 1.4          ┆ 0.2         ┆ setosa    │\n",
       "├╌╌╌╌╌╌╌╌╌╌╌╌╌╌┼╌╌╌╌╌╌╌╌╌╌╌╌╌┼╌╌╌╌╌╌╌╌╌╌╌╌╌╌┼╌╌╌╌╌╌╌╌╌╌╌╌╌┼╌╌╌╌╌╌╌╌╌╌╌┤\n",
       "│ 4.7          ┆ 3.2         ┆ 1.3          ┆ 0.2         ┆ setosa    │\n",
       "├╌╌╌╌╌╌╌╌╌╌╌╌╌╌┼╌╌╌╌╌╌╌╌╌╌╌╌╌┼╌╌╌╌╌╌╌╌╌╌╌╌╌╌┼╌╌╌╌╌╌╌╌╌╌╌╌╌┼╌╌╌╌╌╌╌╌╌╌╌┤\n",
       "│ 4.6          ┆ 3.1         ┆ 1.5          ┆ 0.2         ┆ setosa    │\n",
       "├╌╌╌╌╌╌╌╌╌╌╌╌╌╌┼╌╌╌╌╌╌╌╌╌╌╌╌╌┼╌╌╌╌╌╌╌╌╌╌╌╌╌╌┼╌╌╌╌╌╌╌╌╌╌╌╌╌┼╌╌╌╌╌╌╌╌╌╌╌┤\n",
       "│ ...          ┆ ...         ┆ ...          ┆ ...         ┆ ...       │\n",
       "├╌╌╌╌╌╌╌╌╌╌╌╌╌╌┼╌╌╌╌╌╌╌╌╌╌╌╌╌┼╌╌╌╌╌╌╌╌╌╌╌╌╌╌┼╌╌╌╌╌╌╌╌╌╌╌╌╌┼╌╌╌╌╌╌╌╌╌╌╌┤\n",
       "│ 6.3          ┆ 2.5         ┆ 5.0          ┆ 1.9         ┆ virginica │\n",
       "├╌╌╌╌╌╌╌╌╌╌╌╌╌╌┼╌╌╌╌╌╌╌╌╌╌╌╌╌┼╌╌╌╌╌╌╌╌╌╌╌╌╌╌┼╌╌╌╌╌╌╌╌╌╌╌╌╌┼╌╌╌╌╌╌╌╌╌╌╌┤\n",
       "│ 6.5          ┆ 3.0         ┆ 5.2          ┆ 2.0         ┆ virginica │\n",
       "├╌╌╌╌╌╌╌╌╌╌╌╌╌╌┼╌╌╌╌╌╌╌╌╌╌╌╌╌┼╌╌╌╌╌╌╌╌╌╌╌╌╌╌┼╌╌╌╌╌╌╌╌╌╌╌╌╌┼╌╌╌╌╌╌╌╌╌╌╌┤\n",
       "│ 6.2          ┆ 3.4         ┆ 5.4          ┆ 2.3         ┆ virginica │\n",
       "├╌╌╌╌╌╌╌╌╌╌╌╌╌╌┼╌╌╌╌╌╌╌╌╌╌╌╌╌┼╌╌╌╌╌╌╌╌╌╌╌╌╌╌┼╌╌╌╌╌╌╌╌╌╌╌╌╌┼╌╌╌╌╌╌╌╌╌╌╌┤\n",
       "│ 5.9          ┆ 3.0         ┆ 5.1          ┆ 1.8         ┆ virginica │\n",
       "└──────────────┴─────────────┴──────────────┴─────────────┴───────────┘"
      ]
     },
     "execution_count": 5,
     "metadata": {},
     "output_type": "execute_result"
    }
   ],
   "source": [
    "// Download & load iris dataset into a dataframe.\n",
    "// let df = load_data(None).unwrap();\n",
    "\n",
    "// Load iris dataset from file into a dataframe.\n",
    "// NOTE: If path doesn't exist, the file is downloaded anyways.\n",
    "let path = Path::new(\"../data/iris.csv\");\n",
    "let df_lazy = load_data(Some(&path))?;\n",
    "\n",
    "let mut df = df_lazy.clone().collect()?;\n",
    "// Save dataframe to path if it doesn't exist.\n",
    "save_df(&mut df, &path);\n",
    "\n",
    "// Display dataframe.\n",
    "// println!(\"{}\", df);\n",
    "df"
   ]
  },
  {
   "cell_type": "code",
   "execution_count": 6,
   "id": "af43768d-98d1-4524-9507-49d8b36f99d5",
   "metadata": {},
   "outputs": [],
   "source": [
    "// convert species into categorical values.\n",
    "// df_lazy.clone()\n",
    "//   .with_column(\n",
    "//     col(\"species\")\n",
    "//       .cast(DataType::Categorical(None))\n",
    "//   )\n",
    "//   .collect()?"
   ]
  },
  {
   "cell_type": "markdown",
   "id": "dac9dc8e-0d1f-47fc-84ff-d7ace3e38993",
   "metadata": {},
   "source": [
    "## Data exploration"
   ]
  },
  {
   "cell_type": "code",
   "execution_count": 7,
   "id": "91f30c16-bf0f-48ca-8a3c-855349a6c457",
   "metadata": {},
   "outputs": [
    {
     "data": {
      "text/plain": [
       "shape: (3, 5)\n",
       "┌────────────┬──────────────┬─────────────┬──────────────┬─────────────┐\n",
       "│ species    ┆ sepal_length ┆ sepal_width ┆ petal_length ┆ petal_width │\n",
       "│ ---        ┆ ---          ┆ ---         ┆ ---          ┆ ---         │\n",
       "│ cat        ┆ u32          ┆ u32         ┆ u32          ┆ u32         │\n",
       "╞════════════╪══════════════╪═════════════╪══════════════╪═════════════╡\n",
       "│ virginica  ┆ 50           ┆ 50          ┆ 50           ┆ 50          │\n",
       "├╌╌╌╌╌╌╌╌╌╌╌╌┼╌╌╌╌╌╌╌╌╌╌╌╌╌╌┼╌╌╌╌╌╌╌╌╌╌╌╌╌┼╌╌╌╌╌╌╌╌╌╌╌╌╌╌┼╌╌╌╌╌╌╌╌╌╌╌╌╌┤\n",
       "│ versicolor ┆ 50           ┆ 50          ┆ 50           ┆ 50          │\n",
       "├╌╌╌╌╌╌╌╌╌╌╌╌┼╌╌╌╌╌╌╌╌╌╌╌╌╌╌┼╌╌╌╌╌╌╌╌╌╌╌╌╌┼╌╌╌╌╌╌╌╌╌╌╌╌╌╌┼╌╌╌╌╌╌╌╌╌╌╌╌╌┤\n",
       "│ setosa     ┆ 50           ┆ 50          ┆ 50           ┆ 50          │\n",
       "└────────────┴──────────────┴─────────────┴──────────────┴─────────────┘"
      ]
     },
     "execution_count": 7,
     "metadata": {},
     "output_type": "execute_result"
    }
   ],
   "source": [
    "// Check number of unique species.\n",
    "df_lazy.clone()\n",
    "  .groupby([col(\"species\")])\n",
    "  .agg([col(\"*\").count()])\n",
    "  .collect()?"
   ]
  },
  {
   "cell_type": "code",
   "execution_count": 8,
   "id": "088ce912-d0fc-4fae-88f3-27a0f1d182a0",
   "metadata": {},
   "outputs": [
    {
     "name": "stdout",
     "output_type": "stream",
     "text": [
      "Number of rows: 150\n",
      "Number of cols: 5\n"
     ]
    },
    {
     "data": {
      "text/plain": [
       "shape: (8, 6)\n",
       "┌──────────┬──────────────┬─────────────┬──────────────┬─────────────┬─────────┐\n",
       "│ describe ┆ sepal_length ┆ sepal_width ┆ petal_length ┆ petal_width ┆ species │\n",
       "│ ---      ┆ ---          ┆ ---         ┆ ---          ┆ ---         ┆ ---     │\n",
       "│ str      ┆ f64          ┆ f64         ┆ f64          ┆ f64         ┆ f64     │\n",
       "╞══════════╪══════════════╪═════════════╪══════════════╪═════════════╪═════════╡\n",
       "│ count    ┆ 150.0        ┆ 150.0       ┆ 150.0        ┆ 150.0       ┆ 150.0   │\n",
       "├╌╌╌╌╌╌╌╌╌╌┼╌╌╌╌╌╌╌╌╌╌╌╌╌╌┼╌╌╌╌╌╌╌╌╌╌╌╌╌┼╌╌╌╌╌╌╌╌╌╌╌╌╌╌┼╌╌╌╌╌╌╌╌╌╌╌╌╌┼╌╌╌╌╌╌╌╌╌┤\n",
       "│ mean     ┆ 5.843333     ┆ 3.054       ┆ 3.758667     ┆ 1.198667    ┆ null    │\n",
       "├╌╌╌╌╌╌╌╌╌╌┼╌╌╌╌╌╌╌╌╌╌╌╌╌╌┼╌╌╌╌╌╌╌╌╌╌╌╌╌┼╌╌╌╌╌╌╌╌╌╌╌╌╌╌┼╌╌╌╌╌╌╌╌╌╌╌╌╌┼╌╌╌╌╌╌╌╌╌┤\n",
       "│ std      ┆ 0.828066     ┆ 0.433594    ┆ 1.76442      ┆ 0.763161    ┆ null    │\n",
       "├╌╌╌╌╌╌╌╌╌╌┼╌╌╌╌╌╌╌╌╌╌╌╌╌╌┼╌╌╌╌╌╌╌╌╌╌╌╌╌┼╌╌╌╌╌╌╌╌╌╌╌╌╌╌┼╌╌╌╌╌╌╌╌╌╌╌╌╌┼╌╌╌╌╌╌╌╌╌┤\n",
       "│ min      ┆ 4.3          ┆ 2.0         ┆ 1.0          ┆ 0.1         ┆ null    │\n",
       "├╌╌╌╌╌╌╌╌╌╌┼╌╌╌╌╌╌╌╌╌╌╌╌╌╌┼╌╌╌╌╌╌╌╌╌╌╌╌╌┼╌╌╌╌╌╌╌╌╌╌╌╌╌╌┼╌╌╌╌╌╌╌╌╌╌╌╌╌┼╌╌╌╌╌╌╌╌╌┤\n",
       "│ 25%      ┆ 5.1          ┆ 2.8         ┆ 1.6          ┆ 0.3         ┆ null    │\n",
       "├╌╌╌╌╌╌╌╌╌╌┼╌╌╌╌╌╌╌╌╌╌╌╌╌╌┼╌╌╌╌╌╌╌╌╌╌╌╌╌┼╌╌╌╌╌╌╌╌╌╌╌╌╌╌┼╌╌╌╌╌╌╌╌╌╌╌╌╌┼╌╌╌╌╌╌╌╌╌┤\n",
       "│ 50%      ┆ 5.8          ┆ 3.0         ┆ 4.35         ┆ 1.3         ┆ null    │\n",
       "├╌╌╌╌╌╌╌╌╌╌┼╌╌╌╌╌╌╌╌╌╌╌╌╌╌┼╌╌╌╌╌╌╌╌╌╌╌╌╌┼╌╌╌╌╌╌╌╌╌╌╌╌╌╌┼╌╌╌╌╌╌╌╌╌╌╌╌╌┼╌╌╌╌╌╌╌╌╌┤\n",
       "│ 75%      ┆ 6.4          ┆ 3.3         ┆ 5.1          ┆ 1.8         ┆ null    │\n",
       "├╌╌╌╌╌╌╌╌╌╌┼╌╌╌╌╌╌╌╌╌╌╌╌╌╌┼╌╌╌╌╌╌╌╌╌╌╌╌╌┼╌╌╌╌╌╌╌╌╌╌╌╌╌╌┼╌╌╌╌╌╌╌╌╌╌╌╌╌┼╌╌╌╌╌╌╌╌╌┤\n",
       "│ max      ┆ 7.9          ┆ 4.4         ┆ 6.9          ┆ 2.5         ┆ null    │\n",
       "└──────────┴──────────────┴─────────────┴──────────────┴─────────────┴─────────┘"
      ]
     },
     "execution_count": 8,
     "metadata": {},
     "output_type": "execute_result"
    }
   ],
   "source": [
    "// df.clone().unique(Some(&[\"species\".to_string()]), UniqueKeepStrategy::First)?\n",
    "// df.clone().is_unique()?.cast(&DataType::UInt8)?.sum::<u8>()\n",
    "// Number of rows.\n",
    "println!(\"Number of rows: {}\", df.height());\n",
    "println!(\"Number of cols: {}\", df.width());\n",
    "df.describe(None)"
   ]
  },
  {
   "cell_type": "code",
   "execution_count": 9,
   "id": "c0e56ad7-5c40-418e-bab5-0d65fb5a95fa",
   "metadata": {},
   "outputs": [
    {
     "data": {
      "text/plain": [
       "[\"sepal_length\", \"sepal_width\", \"petal_length\", \"petal_width\", \"species\"]"
      ]
     },
     "execution_count": 9,
     "metadata": {},
     "output_type": "execute_result"
    }
   ],
   "source": [
    "// Get the list of column names.\n",
    "let columns = df.get_column_names_owned();\n",
    "columns"
   ]
  },
  {
   "cell_type": "code",
   "execution_count": 10,
   "id": "d80ba107-8c68-46ab-b64f-6217aeb08fa6",
   "metadata": {},
   "outputs": [
    {
     "data": {
      "text/plain": [
       "[\"sepal_length\", \"sepal_width\", \"petal_length\", \"petal_width\"]"
      ]
     },
     "execution_count": 10,
     "metadata": {},
     "output_type": "execute_result"
    }
   ],
   "source": [
    "// Feature columns.\n",
    "&columns[..&columns.len() - 1]"
   ]
  },
  {
   "cell_type": "code",
   "execution_count": 11,
   "id": "3b9ec37b-91b8-4e54-9b29-0ad2c9b0dd21",
   "metadata": {},
   "outputs": [
    {
     "data": {
      "text/plain": [
       "[\"species\"]"
      ]
     },
     "execution_count": 11,
     "metadata": {},
     "output_type": "execute_result"
    }
   ],
   "source": [
    "// Tareget columns.\n",
    "&columns[&columns.len() - 1..]"
   ]
  },
  {
   "cell_type": "markdown",
   "id": "6b08fc0b-3fa3-4676-b0d0-cc80d75bcbeb",
   "metadata": {},
   "source": [
    "## Split dataframe into features & target"
   ]
  },
  {
   "cell_type": "code",
   "execution_count": 12,
   "id": "65e132ca-2b9b-4cd4-8940-ca8b800746f8",
   "metadata": {},
   "outputs": [
    {
     "data": {
      "text/plain": [
       "shape: (150, 4)\n",
       "┌──────────────┬─────────────┬──────────────┬─────────────┐\n",
       "│ sepal_length ┆ sepal_width ┆ petal_length ┆ petal_width │\n",
       "│ ---          ┆ ---         ┆ ---          ┆ ---         │\n",
       "│ f64          ┆ f64         ┆ f64          ┆ f64         │\n",
       "╞══════════════╪═════════════╪══════════════╪═════════════╡\n",
       "│ 5.1          ┆ 3.5         ┆ 1.4          ┆ 0.2         │\n",
       "├╌╌╌╌╌╌╌╌╌╌╌╌╌╌┼╌╌╌╌╌╌╌╌╌╌╌╌╌┼╌╌╌╌╌╌╌╌╌╌╌╌╌╌┼╌╌╌╌╌╌╌╌╌╌╌╌╌┤\n",
       "│ 4.9          ┆ 3.0         ┆ 1.4          ┆ 0.2         │\n",
       "├╌╌╌╌╌╌╌╌╌╌╌╌╌╌┼╌╌╌╌╌╌╌╌╌╌╌╌╌┼╌╌╌╌╌╌╌╌╌╌╌╌╌╌┼╌╌╌╌╌╌╌╌╌╌╌╌╌┤\n",
       "│ 4.7          ┆ 3.2         ┆ 1.3          ┆ 0.2         │\n",
       "├╌╌╌╌╌╌╌╌╌╌╌╌╌╌┼╌╌╌╌╌╌╌╌╌╌╌╌╌┼╌╌╌╌╌╌╌╌╌╌╌╌╌╌┼╌╌╌╌╌╌╌╌╌╌╌╌╌┤\n",
       "│ 4.6          ┆ 3.1         ┆ 1.5          ┆ 0.2         │\n",
       "├╌╌╌╌╌╌╌╌╌╌╌╌╌╌┼╌╌╌╌╌╌╌╌╌╌╌╌╌┼╌╌╌╌╌╌╌╌╌╌╌╌╌╌┼╌╌╌╌╌╌╌╌╌╌╌╌╌┤\n",
       "│ ...          ┆ ...         ┆ ...          ┆ ...         │\n",
       "├╌╌╌╌╌╌╌╌╌╌╌╌╌╌┼╌╌╌╌╌╌╌╌╌╌╌╌╌┼╌╌╌╌╌╌╌╌╌╌╌╌╌╌┼╌╌╌╌╌╌╌╌╌╌╌╌╌┤\n",
       "│ 6.3          ┆ 2.5         ┆ 5.0          ┆ 1.9         │\n",
       "├╌╌╌╌╌╌╌╌╌╌╌╌╌╌┼╌╌╌╌╌╌╌╌╌╌╌╌╌┼╌╌╌╌╌╌╌╌╌╌╌╌╌╌┼╌╌╌╌╌╌╌╌╌╌╌╌╌┤\n",
       "│ 6.5          ┆ 3.0         ┆ 5.2          ┆ 2.0         │\n",
       "├╌╌╌╌╌╌╌╌╌╌╌╌╌╌┼╌╌╌╌╌╌╌╌╌╌╌╌╌┼╌╌╌╌╌╌╌╌╌╌╌╌╌╌┼╌╌╌╌╌╌╌╌╌╌╌╌╌┤\n",
       "│ 6.2          ┆ 3.4         ┆ 5.4          ┆ 2.3         │\n",
       "├╌╌╌╌╌╌╌╌╌╌╌╌╌╌┼╌╌╌╌╌╌╌╌╌╌╌╌╌┼╌╌╌╌╌╌╌╌╌╌╌╌╌╌┼╌╌╌╌╌╌╌╌╌╌╌╌╌┤\n",
       "│ 5.9          ┆ 3.0         ┆ 5.1          ┆ 1.8         │\n",
       "└──────────────┴─────────────┴──────────────┴─────────────┘"
      ]
     },
     "execution_count": 12,
     "metadata": {},
     "output_type": "execute_result"
    }
   ],
   "source": [
    "// Features dataframe.\n",
    "let feature_df = df.clone()\n",
    "    .select(&columns[..&columns.len() - 1])?;\n",
    "\n",
    "feature_df"
   ]
  },
  {
   "cell_type": "code",
   "execution_count": 13,
   "id": "c70f86a9-cda7-486d-9ac6-30d0c6767d87",
   "metadata": {},
   "outputs": [
    {
     "data": {
      "text/plain": [
       "shape: (150, 1)\n",
       "┌───────────┐\n",
       "│ species   │\n",
       "│ ---       │\n",
       "│ cat       │\n",
       "╞═══════════╡\n",
       "│ setosa    │\n",
       "├╌╌╌╌╌╌╌╌╌╌╌┤\n",
       "│ setosa    │\n",
       "├╌╌╌╌╌╌╌╌╌╌╌┤\n",
       "│ setosa    │\n",
       "├╌╌╌╌╌╌╌╌╌╌╌┤\n",
       "│ setosa    │\n",
       "├╌╌╌╌╌╌╌╌╌╌╌┤\n",
       "│ ...       │\n",
       "├╌╌╌╌╌╌╌╌╌╌╌┤\n",
       "│ virginica │\n",
       "├╌╌╌╌╌╌╌╌╌╌╌┤\n",
       "│ virginica │\n",
       "├╌╌╌╌╌╌╌╌╌╌╌┤\n",
       "│ virginica │\n",
       "├╌╌╌╌╌╌╌╌╌╌╌┤\n",
       "│ virginica │\n",
       "└───────────┘"
      ]
     },
     "execution_count": 13,
     "metadata": {},
     "output_type": "execute_result"
    }
   ],
   "source": [
    "// Targets dataframe.\n",
    "let target_df = df.clone()\n",
    "  .select(&columns[&columns.len() - 1..])?;\n",
    "\n",
    "target_df"
   ]
  },
  {
   "cell_type": "code",
   "execution_count": 14,
   "id": "8e9a443c-881b-4592-9a3b-06b364838afd",
   "metadata": {},
   "outputs": [
    {
     "data": {
      "text/plain": [
       "(150, 1)"
      ]
     },
     "execution_count": 14,
     "metadata": {},
     "output_type": "execute_result"
    }
   ],
   "source": [
    "target_df.shape()"
   ]
  },
  {
   "cell_type": "markdown",
   "id": "0cea9c61-938b-4b44-addc-fbae2620f5fd",
   "metadata": {},
   "source": [
    "## Converting features and targets into `ndarray`"
   ]
  },
  {
   "cell_type": "code",
   "execution_count": 15,
   "id": "2cdb08a1-009d-46ab-93be-c9bac28f0602",
   "metadata": {},
   "outputs": [
    {
     "data": {
      "text/plain": [
       "[150, 1]"
      ]
     },
     "execution_count": 15,
     "metadata": {},
     "output_type": "execute_result"
    }
   ],
   "source": [
    "// Convert target into ndarray.\n",
    "let target = target_df.clone().to_ndarray::<Float64Type>()?;\n",
    "target.shape()"
   ]
  },
  {
   "cell_type": "code",
   "execution_count": 16,
   "id": "c6bc6bff-58d4-4106-ac86-1994ccec4bac",
   "metadata": {},
   "outputs": [
    {
     "data": {
      "text/plain": [
       "[[5.1, 3.5, 1.4, 0.2],\n",
       " [4.9, 3.0, 1.4, 0.2],\n",
       " [4.7, 3.2, 1.3, 0.2],\n",
       " [4.6, 3.1, 1.5, 0.2],\n",
       " [5.0, 3.6, 1.4, 0.2],\n",
       " ...,\n",
       " [6.7, 3.0, 5.2, 2.3],\n",
       " [6.3, 2.5, 5.0, 1.9],\n",
       " [6.5, 3.0, 5.2, 2.0],\n",
       " [6.2, 3.4, 5.4, 2.3],\n",
       " [5.9, 3.0, 5.1, 1.8]], shape=[150, 4], strides=[1, 150], layout=Ff (0xa), const ndim=2"
      ]
     },
     "execution_count": 16,
     "metadata": {},
     "output_type": "execute_result"
    }
   ],
   "source": [
    "// Convert features into ndarray.\n",
    "let features = feature_df.clone().to_ndarray::<Float64Type>()?;\n",
    "features"
   ]
  },
  {
   "cell_type": "markdown",
   "id": "33c3c995-09cd-4f45-ad71-a3cfb364c709",
   "metadata": {},
   "source": [
    "## Alternate loading of a dataframe\n",
    "\n",
    "A dataframe can be loaded given all the column names and datatypes by creating a `Schema`.\n",
    "Once created, you can call the `.with_schema(schema.into())` builder with `LazyFrame`."
   ]
  },
  {
   "cell_type": "code",
   "execution_count": 17,
   "id": "cce60f91-7b3e-471f-a0f5-76b93db89cde",
   "metadata": {},
   "outputs": [
    {
     "name": "stdout",
     "output_type": "stream",
     "text": [
      "Schema:\n",
      "name: speal_length, data type: Float64\n",
      "name: speal_width, data type: Float64\n",
      "name: petal_length, data type: Float64\n",
      "name: petal_width, data type: Float64\n",
      "name: species, data type: Categorical(None)\n",
      "\n"
     ]
    },
    {
     "data": {
      "text/plain": [
       "shape: (150, 5)\n",
       "┌──────────────┬─────────────┬──────────────┬─────────────┬───────────┐\n",
       "│ speal_length ┆ speal_width ┆ petal_length ┆ petal_width ┆ species   │\n",
       "│ ---          ┆ ---         ┆ ---          ┆ ---         ┆ ---       │\n",
       "│ f64          ┆ f64         ┆ f64          ┆ f64         ┆ cat       │\n",
       "╞══════════════╪═════════════╪══════════════╪═════════════╪═══════════╡\n",
       "│ 5.1          ┆ 3.5         ┆ 1.4          ┆ 0.2         ┆ setosa    │\n",
       "├╌╌╌╌╌╌╌╌╌╌╌╌╌╌┼╌╌╌╌╌╌╌╌╌╌╌╌╌┼╌╌╌╌╌╌╌╌╌╌╌╌╌╌┼╌╌╌╌╌╌╌╌╌╌╌╌╌┼╌╌╌╌╌╌╌╌╌╌╌┤\n",
       "│ 4.9          ┆ 3.0         ┆ 1.4          ┆ 0.2         ┆ setosa    │\n",
       "├╌╌╌╌╌╌╌╌╌╌╌╌╌╌┼╌╌╌╌╌╌╌╌╌╌╌╌╌┼╌╌╌╌╌╌╌╌╌╌╌╌╌╌┼╌╌╌╌╌╌╌╌╌╌╌╌╌┼╌╌╌╌╌╌╌╌╌╌╌┤\n",
       "│ 4.7          ┆ 3.2         ┆ 1.3          ┆ 0.2         ┆ setosa    │\n",
       "├╌╌╌╌╌╌╌╌╌╌╌╌╌╌┼╌╌╌╌╌╌╌╌╌╌╌╌╌┼╌╌╌╌╌╌╌╌╌╌╌╌╌╌┼╌╌╌╌╌╌╌╌╌╌╌╌╌┼╌╌╌╌╌╌╌╌╌╌╌┤\n",
       "│ 4.6          ┆ 3.1         ┆ 1.5          ┆ 0.2         ┆ setosa    │\n",
       "├╌╌╌╌╌╌╌╌╌╌╌╌╌╌┼╌╌╌╌╌╌╌╌╌╌╌╌╌┼╌╌╌╌╌╌╌╌╌╌╌╌╌╌┼╌╌╌╌╌╌╌╌╌╌╌╌╌┼╌╌╌╌╌╌╌╌╌╌╌┤\n",
       "│ ...          ┆ ...         ┆ ...          ┆ ...         ┆ ...       │\n",
       "├╌╌╌╌╌╌╌╌╌╌╌╌╌╌┼╌╌╌╌╌╌╌╌╌╌╌╌╌┼╌╌╌╌╌╌╌╌╌╌╌╌╌╌┼╌╌╌╌╌╌╌╌╌╌╌╌╌┼╌╌╌╌╌╌╌╌╌╌╌┤\n",
       "│ 6.3          ┆ 2.5         ┆ 5.0          ┆ 1.9         ┆ virginica │\n",
       "├╌╌╌╌╌╌╌╌╌╌╌╌╌╌┼╌╌╌╌╌╌╌╌╌╌╌╌╌┼╌╌╌╌╌╌╌╌╌╌╌╌╌╌┼╌╌╌╌╌╌╌╌╌╌╌╌╌┼╌╌╌╌╌╌╌╌╌╌╌┤\n",
       "│ 6.5          ┆ 3.0         ┆ 5.2          ┆ 2.0         ┆ virginica │\n",
       "├╌╌╌╌╌╌╌╌╌╌╌╌╌╌┼╌╌╌╌╌╌╌╌╌╌╌╌╌┼╌╌╌╌╌╌╌╌╌╌╌╌╌╌┼╌╌╌╌╌╌╌╌╌╌╌╌╌┼╌╌╌╌╌╌╌╌╌╌╌┤\n",
       "│ 6.2          ┆ 3.4         ┆ 5.4          ┆ 2.3         ┆ virginica │\n",
       "├╌╌╌╌╌╌╌╌╌╌╌╌╌╌┼╌╌╌╌╌╌╌╌╌╌╌╌╌┼╌╌╌╌╌╌╌╌╌╌╌╌╌╌┼╌╌╌╌╌╌╌╌╌╌╌╌╌┼╌╌╌╌╌╌╌╌╌╌╌┤\n",
       "│ 5.9          ┆ 3.0         ┆ 5.1          ┆ 1.8         ┆ virginica │\n",
       "└──────────────┴─────────────┴──────────────┴─────────────┴───────────┘"
      ]
     },
     "execution_count": 17,
     "metadata": {},
     "output_type": "execute_result"
    }
   ],
   "source": [
    "// List fields with their datatypes.\n",
    "let fields: [Field; 5] = [\n",
    "  Field::new(\"speal_length\", DataType::Float64),\n",
    "  Field::new(\"speal_width\", DataType::Float64),\n",
    "  Field::new(\"petal_length\", DataType::Float64),\n",
    "  Field::new(\"petal_width\", DataType::Float64),\n",
    "  Field::new(\"species\", DataType::Categorical(None)),\n",
    "];\n",
    "\n",
    "// Create dataframe schema.\n",
    "let schema = Schema::from(fields.into_iter());\n",
    "println!(\"{:?}\", schema);\n",
    "\n",
    "// Load dataframe with a given schema.\n",
    "let df_lazy = LazyCsvReader::new(&path)\n",
    "  .has_header(true)\n",
    "  .with_schema(schema.into())\n",
    "  .finish()?;\n",
    "\n",
    "df_lazy.collect()?"
   ]
  },
  {
   "cell_type": "code",
   "execution_count": 18,
   "id": "660737f9-f5b6-45c8-9d65-fb619d30e259",
   "metadata": {},
   "outputs": [
    {
     "data": {
      "text/plain": [
       "shape: (150, 5)\n",
       "┌──────────────┬─────────────┬──────────────┬─────────────┬───────────┐\n",
       "│ sepal_length ┆ sepal_width ┆ petal_length ┆ petal_width ┆ species   │\n",
       "│ ---          ┆ ---         ┆ ---          ┆ ---         ┆ ---       │\n",
       "│ f64          ┆ f64         ┆ f64          ┆ f64         ┆ cat       │\n",
       "╞══════════════╪═════════════╪══════════════╪═════════════╪═══════════╡\n",
       "│ 5.1          ┆ 3.5         ┆ 1.4          ┆ 0.2         ┆ setosa    │\n",
       "├╌╌╌╌╌╌╌╌╌╌╌╌╌╌┼╌╌╌╌╌╌╌╌╌╌╌╌╌┼╌╌╌╌╌╌╌╌╌╌╌╌╌╌┼╌╌╌╌╌╌╌╌╌╌╌╌╌┼╌╌╌╌╌╌╌╌╌╌╌┤\n",
       "│ 4.9          ┆ 3.0         ┆ 1.4          ┆ 0.2         ┆ setosa    │\n",
       "├╌╌╌╌╌╌╌╌╌╌╌╌╌╌┼╌╌╌╌╌╌╌╌╌╌╌╌╌┼╌╌╌╌╌╌╌╌╌╌╌╌╌╌┼╌╌╌╌╌╌╌╌╌╌╌╌╌┼╌╌╌╌╌╌╌╌╌╌╌┤\n",
       "│ 4.7          ┆ 3.2         ┆ 1.3          ┆ 0.2         ┆ setosa    │\n",
       "├╌╌╌╌╌╌╌╌╌╌╌╌╌╌┼╌╌╌╌╌╌╌╌╌╌╌╌╌┼╌╌╌╌╌╌╌╌╌╌╌╌╌╌┼╌╌╌╌╌╌╌╌╌╌╌╌╌┼╌╌╌╌╌╌╌╌╌╌╌┤\n",
       "│ 4.6          ┆ 3.1         ┆ 1.5          ┆ 0.2         ┆ setosa    │\n",
       "├╌╌╌╌╌╌╌╌╌╌╌╌╌╌┼╌╌╌╌╌╌╌╌╌╌╌╌╌┼╌╌╌╌╌╌╌╌╌╌╌╌╌╌┼╌╌╌╌╌╌╌╌╌╌╌╌╌┼╌╌╌╌╌╌╌╌╌╌╌┤\n",
       "│ ...          ┆ ...         ┆ ...          ┆ ...         ┆ ...       │\n",
       "├╌╌╌╌╌╌╌╌╌╌╌╌╌╌┼╌╌╌╌╌╌╌╌╌╌╌╌╌┼╌╌╌╌╌╌╌╌╌╌╌╌╌╌┼╌╌╌╌╌╌╌╌╌╌╌╌╌┼╌╌╌╌╌╌╌╌╌╌╌┤\n",
       "│ 6.3          ┆ 2.5         ┆ 5.0          ┆ 1.9         ┆ virginica │\n",
       "├╌╌╌╌╌╌╌╌╌╌╌╌╌╌┼╌╌╌╌╌╌╌╌╌╌╌╌╌┼╌╌╌╌╌╌╌╌╌╌╌╌╌╌┼╌╌╌╌╌╌╌╌╌╌╌╌╌┼╌╌╌╌╌╌╌╌╌╌╌┤\n",
       "│ 6.5          ┆ 3.0         ┆ 5.2          ┆ 2.0         ┆ virginica │\n",
       "├╌╌╌╌╌╌╌╌╌╌╌╌╌╌┼╌╌╌╌╌╌╌╌╌╌╌╌╌┼╌╌╌╌╌╌╌╌╌╌╌╌╌╌┼╌╌╌╌╌╌╌╌╌╌╌╌╌┼╌╌╌╌╌╌╌╌╌╌╌┤\n",
       "│ 6.2          ┆ 3.4         ┆ 5.4          ┆ 2.3         ┆ virginica │\n",
       "├╌╌╌╌╌╌╌╌╌╌╌╌╌╌┼╌╌╌╌╌╌╌╌╌╌╌╌╌┼╌╌╌╌╌╌╌╌╌╌╌╌╌╌┼╌╌╌╌╌╌╌╌╌╌╌╌╌┼╌╌╌╌╌╌╌╌╌╌╌┤\n",
       "│ 5.9          ┆ 3.0         ┆ 5.1          ┆ 1.8         ┆ virginica │\n",
       "└──────────────┴─────────────┴──────────────┴─────────────┴───────────┘"
      ]
     },
     "execution_count": 18,
     "metadata": {},
     "output_type": "execute_result"
    }
   ],
   "source": [
    "// Overwrite \"species\" schema.\n",
    "let species_schema = Schema::from([\n",
    "  Field::new(\"species\", DataType::Categorical(None)),\n",
    "].into_iter());\n",
    "\n",
    "let df_lazy = LazyCsvReader::new(&path)\n",
    "  .has_header(true)\n",
    "  .with_dtype_overwrite(Some(&species_schema))\n",
    "  .finish()?;\n",
    "\n",
    "df_lazy.collect()?"
   ]
  },
  {
   "cell_type": "code",
   "execution_count": null,
   "id": "759d5bdf-5a61-405b-97fa-b7cd8302dd7b",
   "metadata": {},
   "outputs": [],
   "source": []
  },
  {
   "cell_type": "code",
   "execution_count": 19,
   "id": "eb47dcd2-df21-4516-9ddb-a9f4971a21a0",
   "metadata": {},
   "outputs": [
    {
     "data": {
      "text/plain": [
       "Schema:\n",
       "name: sepal_length, data type: Float64\n",
       "name: sepal_width, data type: Float64\n",
       "name: petal_length, data type: Float64\n",
       "name: petal_width, data type: Float64\n",
       "name: species, data type: Categorical(None)\n"
      ]
     },
     "execution_count": 19,
     "metadata": {},
     "output_type": "execute_result"
    }
   ],
   "source": [
    "let fields = [\n",
    "  Field::new(\"sepal_length\", DataType::Float64),\n",
    "  Field::new(\"sepal_width\", DataType::Float64),\n",
    "  Field::new(\"petal_length\", DataType::Float64),\n",
    "  Field::new(\"petal_width\", DataType::Float64),\n",
    "  Field::new(\"species\", DataType::Categorical(None)),\n",
    "];\n",
    "\n",
    "let expected_schema = Schema::from(fields.into_iter());\n",
    "expected_schema"
   ]
  },
  {
   "cell_type": "code",
   "execution_count": 20,
   "id": "bf7624ba-de50-431b-a5e1-1c33ddd35149",
   "metadata": {},
   "outputs": [
    {
     "data": {
      "text/plain": [
       "()"
      ]
     },
     "execution_count": 20,
     "metadata": {},
     "output_type": "execute_result"
    }
   ],
   "source": [
    "assert_eq!(expected_schema, df.schema())"
   ]
  },
  {
   "cell_type": "code",
   "execution_count": null,
   "id": "ce852c9c-fe1f-450c-911b-a4c74b15f5e3",
   "metadata": {},
   "outputs": [],
   "source": []
  }
 ],
 "metadata": {
  "kernelspec": {
   "display_name": "Rust",
   "language": "rust",
   "name": "rust"
  },
  "language_info": {
   "codemirror_mode": "rust",
   "file_extension": ".rs",
   "mimetype": "text/rust",
   "name": "Rust",
   "pygment_lexer": "rust",
   "version": ""
  }
 },
 "nbformat": 4,
 "nbformat_minor": 5
}
