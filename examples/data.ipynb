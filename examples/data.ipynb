{
 "cells": [
  {
   "cell_type": "markdown",
   "id": "ebead1f2-3155-4add-b1db-70c01f2a722a",
   "metadata": {},
   "source": [
    "## Jupyter Kernel for Rust Programming Language\n",
    "\n",
    "[evcxr] is an evaluation context for Rust. It is an unofficial google project that offers several related crates, one of which is [evcxr_jupyter] which is a Juypter Kernel for the Rust programming language.\n",
    "\n",
    "BTW, if you're wondering how to pronounce `EvCxR`; it's pronounced *\"Evic-ser\"* cos it's an **EV**aluation Conte**X**t for **R**ust.\n",
    "\n",
    "You can take a [tour of the Juypter Kernel][tour] to get a feel for using Rust in Jupyter Notebooks.\n",
    "\n",
    "## Setup\n",
    "\n",
    "You can setup `evcxr_jupyter` by running the following commands:\n",
    "\n",
    "```sh\n",
    "cargo install evcxr_jupyter\n",
    "evcxr_jupyter --install\n",
    "```\n",
    "\n",
    "Check full installation instructions [here][install].\n",
    "\n",
    "### Plotly Jupyter Support\n",
    "\n",
    "To show plots in Jupyter notebook, install the jupyterlab extension by executing the following command:\n",
    "\n",
    "```sh\n",
    "jupyter labextension install jupyterlab-plotly\n",
    "```\n",
    "\n",
    "Visit the [Jupyter Support] for plotly guide for more installation help.\n",
    "\n",
    "[evcxr]: https://github.com/google/evcxr\n",
    "[evcxr_jupyter]: https://github.com/google/evcxr/blob/main/evcxr_jupyter/README.md\n",
    "[install]: https://github.com/google/evcxr/blob/main/evcxr_jupyter/README.md#installation\n",
    "[tour]: https://github.com/google/evcxr/blob/main/evcxr_jupyter/samples/evcxr_jupyter_tour.ipynb\n",
    "[Jupyter Support]: https://igiagkiozis.github.io/plotly/content/fundamentals/jupyter_support.html"
   ]
  },
  {
   "cell_type": "markdown",
   "id": "1b8d82ba-dcbf-4b9d-acff-90521863f1af",
   "metadata": {},
   "source": [
    "# Iris Dataset"
   ]
  },
  {
   "cell_type": "markdown",
   "id": "3ce29d1b-d016-4f66-8289-b3bb67a50215",
   "metadata": {},
   "source": [
    "## Install and add dependencies"
   ]
  },
  {
   "cell_type": "code",
   "execution_count": 2,
   "id": "a831e056-1685-4d8f-b2aa-77a742dae9b0",
   "metadata": {},
   "outputs": [],
   "source": [
    "// Install dependecies: eq. of add it to \"Cargo.toml\".\n",
    ":dep eyre = \"0.6.8\"\n",
    ":dep ndarray = \"0.15.6\"\n",
    ":dep reqwest = { version = \"0.11.13\", features = [\"blocking\"] }\n",
    ":dep polars = { version = \"0.26.1\", features = [\"ndarray\", \"lazy\", \"describe\", \"dtype-full\"] }\n",
    ":dep plotly = { version = \"0.6\", features=[\"plotly_ndarray\"] }"
   ]
  },
  {
   "cell_type": "code",
   "execution_count": null,
   "id": "d0516554-1209-473e-ad44-15226dcc23b1",
   "metadata": {},
   "outputs": [],
   "source": [
    "use std::{io::Cursor, fs::{self, File}, path::Path};\n",
    "\n",
    "use eyre::Result;\n",
    "use ndarray::prelude::*;\n",
    "use polars::prelude::*;\n",
    "use reqwest::blocking::Client;\n",
    "use plotly::{Scatter, Plot};\n",
    "use plotly::common::Mode;"
   ]
  },
  {
   "cell_type": "markdown",
   "id": "d5cc2666-6141-43e3-9cc5-709a967d11cb",
   "metadata": {},
   "source": [
    "## Load data into `DataFrame` or `LazyFrame`"
   ]
  },
  {
   "cell_type": "code",
   "execution_count": null,
   "id": "6d2a954e-6dad-48ab-a97a-7a7525cf2b18",
   "metadata": {},
   "outputs": [],
   "source": [
    "/// Save dataframe to disk.\n",
    "pub fn save_df(df: &mut DataFrame, path: &Path) -> Result<()> {\n",
    "  if !path.exists() {\n",
    "    // See if parent folder exists.\n",
    "    let parent = path.parent().unwrap();\n",
    "    if !parent.is_dir() {\n",
    "      std::fs::create_dir_all(&parent).unwrap();\n",
    "    }\n",
    "    // Create file.\n",
    "    let mut file = File::create(&path)?;\n",
    "\n",
    "    // Save dataframe.\n",
    "    CsvWriter::new(&mut file).finish(df)?;\n",
    "    println!(\"File saved to:  {}\", path.display());\n",
    "  } else {\n",
    "    println!(\"File already exists.\");\n",
    "  }\n",
    "\n",
    "  Ok(())\n",
    "}\n",
    "\n",
    "/// Load Iris dataset into a dataframe from file path if given, otherwise,\n",
    "/// download it.\n",
    "pub fn load_data(path: Option<&Path>) -> Result<LazyFrame> {\n",
    "  // Overwrite the \"species\" schema.\n",
    "  let fields = [Field::new(\"species\", DataType::Categorical(None))];\n",
    "  let schema = Schema::from(fields.into_iter());\n",
    "\n",
    "  let df = match path {\n",
    "    // Load data from file (if it exists).\n",
    "    Some(p) if p.is_file() => {\n",
    "      println!(\"Loading data from {}\", p.display());\n",
    "\n",
    "      LazyCsvReader::new(&p)\n",
    "        .has_header(true)\n",
    "        .with_dtype_overwrite(Some(&schema))\n",
    "        .finish()?\n",
    "    }\n",
    "    // Download data.\n",
    "    _ => {\n",
    "      println!(\"Downloading data...\");\n",
    "\n",
    "      let data: Vec<u8> = Client::new()\n",
    "        .get(\"https://j.mp/iriscsv\")\n",
    "        .send()?\n",
    "        .text()?\n",
    "        .bytes()\n",
    "        .collect();\n",
    "\n",
    "      CsvReader::new(Cursor::new(data))\n",
    "        .has_header(true)\n",
    "        .with_dtypes(Some(&schema))\n",
    "        .finish()?\n",
    "        .lazy()\n",
    "    }\n",
    "  };\n",
    "\n",
    "  Ok(df)\n",
    "}"
   ]
  },
  {
   "cell_type": "code",
   "execution_count": null,
   "id": "240d3467-bc35-4651-b10f-4d90a2b37838",
   "metadata": {},
   "outputs": [],
   "source": [
    "// Download & load iris dataset into a dataframe.\n",
    "// let df = load_data(None).unwrap();\n",
    "\n",
    "// Load iris dataset from file into a dataframe.\n",
    "// NOTE: If path doesn't exist, the file is downloaded anyways.\n",
    "let path = Path::new(\"../data/iris.csv\");\n",
    "let df_lazy = load_data(Some(&path))?;\n",
    "\n",
    "let mut df = df_lazy.clone().collect()?;\n",
    "// Save dataframe to path if it doesn't exist.\n",
    "save_df(&mut df, &path);\n",
    "\n",
    "// Display dataframe.\n",
    "// println!(\"{}\", df);\n",
    "df"
   ]
  },
  {
   "cell_type": "code",
   "execution_count": null,
   "id": "af43768d-98d1-4524-9507-49d8b36f99d5",
   "metadata": {},
   "outputs": [],
   "source": [
    "// convert species into categorical values.\n",
    "// df_lazy.clone()\n",
    "//   .with_column(\n",
    "//     col(\"species\")\n",
    "//       .cast(DataType::Categorical(None))\n",
    "//   )\n",
    "//   .collect()?"
   ]
  },
  {
   "cell_type": "markdown",
   "id": "dac9dc8e-0d1f-47fc-84ff-d7ace3e38993",
   "metadata": {},
   "source": [
    "## Data exploration"
   ]
  },
  {
   "cell_type": "code",
   "execution_count": null,
   "id": "91f30c16-bf0f-48ca-8a3c-855349a6c457",
   "metadata": {},
   "outputs": [],
   "source": [
    "// Check number of unique species.\n",
    "df_lazy.clone()\n",
    "  .groupby([col(\"species\")])\n",
    "  .agg([col(\"*\").count()])\n",
    "  .collect()?"
   ]
  },
  {
   "cell_type": "code",
   "execution_count": null,
   "id": "088ce912-d0fc-4fae-88f3-27a0f1d182a0",
   "metadata": {},
   "outputs": [],
   "source": [
    "// df.clone().unique(Some(&[\"species\".to_string()]), UniqueKeepStrategy::First)?\n",
    "// df.clone().is_unique()?.cast(&DataType::UInt8)?.sum::<u8>()\n",
    "// Number of rows.\n",
    "println!(\"Number of rows: {}\", df.height());\n",
    "println!(\"Number of cols: {}\", df.width());\n",
    "df.describe(None)"
   ]
  },
  {
   "cell_type": "code",
   "execution_count": null,
   "id": "c0e56ad7-5c40-418e-bab5-0d65fb5a95fa",
   "metadata": {},
   "outputs": [],
   "source": [
    "// Get the list of column names.\n",
    "let columns = df.get_column_names_owned();\n",
    "columns"
   ]
  },
  {
   "cell_type": "code",
   "execution_count": null,
   "id": "d80ba107-8c68-46ab-b64f-6217aeb08fa6",
   "metadata": {},
   "outputs": [],
   "source": [
    "// Feature columns.\n",
    "&columns[..&columns.len() - 1]"
   ]
  },
  {
   "cell_type": "code",
   "execution_count": null,
   "id": "3b9ec37b-91b8-4e54-9b29-0ad2c9b0dd21",
   "metadata": {},
   "outputs": [],
   "source": [
    "// Tareget columns.\n",
    "&columns[&columns.len() - 1..]"
   ]
  },
  {
   "cell_type": "code",
   "execution_count": null,
   "id": "5c8efd48",
   "metadata": {},
   "outputs": [],
   "source": [
    "// Copyright (c) 2023 Victor I. Afolabi\n",
    "// \n",
    "// This software is released under the MIT License.\n",
    "// https://opensource.org/licenses/MIT\n",
    "\n",
    "let feature_names = columns[..&columns.len() - 1].to_owned();\n",
    "feature_names"
   ]
  },
  {
   "cell_type": "markdown",
   "id": "6b08fc0b-3fa3-4676-b0d0-cc80d75bcbeb",
   "metadata": {},
   "source": [
    "## Split dataframe into features & target"
   ]
  },
  {
   "cell_type": "code",
   "execution_count": null,
   "id": "65e132ca-2b9b-4cd4-8940-ca8b800746f8",
   "metadata": {},
   "outputs": [],
   "source": [
    "// Features dataframe.\n",
    "let feature_df = df.clone()\n",
    "    .select(&columns[..&columns.len() - 1])?;\n",
    "\n",
    "feature_df"
   ]
  },
  {
   "cell_type": "code",
   "execution_count": null,
   "id": "c70f86a9-cda7-486d-9ac6-30d0c6767d87",
   "metadata": {},
   "outputs": [],
   "source": [
    "// Targets dataframe.\n",
    "let target_df = df.clone()\n",
    "  .select(&columns[&columns.len() - 1..])?;\n",
    "\n",
    "target_df"
   ]
  },
  {
   "cell_type": "code",
   "execution_count": null,
   "id": "8e9a443c-881b-4592-9a3b-06b364838afd",
   "metadata": {},
   "outputs": [],
   "source": [
    "target_df.shape()"
   ]
  },
  {
   "cell_type": "markdown",
   "id": "0cea9c61-938b-4b44-addc-fbae2620f5fd",
   "metadata": {},
   "source": [
    "## Converting features and targets into `ndarray`"
   ]
  },
  {
   "cell_type": "code",
   "execution_count": null,
   "id": "2cdb08a1-009d-46ab-93be-c9bac28f0602",
   "metadata": {},
   "outputs": [],
   "source": [
    "// Convert target into ndarray.\n",
    "let target = target_df.clone().to_ndarray::<Float64Type>()?;\n",
    "target.shape()"
   ]
  },
  {
   "cell_type": "code",
   "execution_count": null,
   "id": "c6bc6bff-58d4-4106-ac86-1994ccec4bac",
   "metadata": {},
   "outputs": [],
   "source": [
    "// Convert features into ndarray.\n",
    "let features = feature_df.clone().to_ndarray::<Float64Type>()?;\n",
    "features"
   ]
  },
  {
   "cell_type": "markdown",
   "id": "33c3c995-09cd-4f45-ad71-a3cfb364c709",
   "metadata": {},
   "source": [
    "## Alternate loading of a dataframe"
   ]
  },
  {
   "cell_type": "code",
   "execution_count": null,
   "id": "cce60f91-7b3e-471f-a0f5-76b93db89cde",
   "metadata": {},
   "outputs": [],
   "source": [
    "// List fields with their datatypes.\n",
    "let fields: [Field; 5] = [\n",
    "  Field::new(\"speal_length\", DataType::Float64),\n",
    "  Field::new(\"speal_width\", DataType::Float64),\n",
    "  Field::new(\"petal_length\", DataType::Float64),\n",
    "  Field::new(\"petal_width\", DataType::Float64),\n",
    "  Field::new(\"species\", DataType::Categorical(None)),\n",
    "];\n",
    "\n",
    "// Create dataframe schema.\n",
    "let schema = Schema::from(fields.into_iter());\n",
    "println!(\"{:?}\", schema);\n",
    "\n",
    "// Load dataframe with a given schema.\n",
    "let df_lazy = LazyCsvReader::new(&path)\n",
    "  .has_header(true)\n",
    "  .with_schema(schema.into())\n",
    "  .finish()?;\n",
    "\n",
    "df_lazy.collect()?"
   ]
  },
  {
   "cell_type": "code",
   "execution_count": null,
   "id": "660737f9-f5b6-45c8-9d65-fb619d30e259",
   "metadata": {},
   "outputs": [],
   "source": [
    "// Overwrite \"species\" schema.\n",
    "let species_schema = Schema::from([\n",
    "  Field::new(\"species\", DataType::Categorical(None)),\n",
    "].into_iter());\n",
    "\n",
    "let df_lazy = LazyCsvReader::new(&path)\n",
    "  .has_header(true)\n",
    "  .with_dtype_overwrite(Some(&species_schema))\n",
    "  .finish()?;\n",
    "\n",
    "df_lazy.collect()?"
   ]
  },
  {
   "cell_type": "code",
   "execution_count": null,
   "id": "eb47dcd2-df21-4516-9ddb-a9f4971a21a0",
   "metadata": {},
   "outputs": [],
   "source": [
    "let fields = [\n",
    "  Field::new(\"sepal_length\", DataType::Float64),\n",
    "  Field::new(\"sepal_width\", DataType::Float64),\n",
    "  Field::new(\"petal_length\", DataType::Float64),\n",
    "  Field::new(\"petal_width\", DataType::Float64),\n",
    "  Field::new(\"species\", DataType::Categorical(None)),\n",
    "];\n",
    "\n",
    "let expected_schema = Schema::from(fields.into_iter());\n",
    "expected_schema"
   ]
  },
  {
   "cell_type": "code",
   "execution_count": null,
   "id": "bf7624ba-de50-431b-a5e1-1c33ddd35149",
   "metadata": {},
   "outputs": [],
   "source": [
    "assert_eq!(expected_schema, df.schema())"
   ]
  },
  {
   "cell_type": "code",
   "execution_count": null,
   "id": "ce852c9c-fe1f-450c-911b-a4c74b15f5e3",
   "metadata": {},
   "outputs": [],
   "source": [
    "features"
   ]
  },
  {
   "cell_type": "code",
   "execution_count": null,
   "id": "5cece9ec",
   "metadata": {},
   "outputs": [],
   "source": [
    "// copyright (c) 2023 victor I. Afolabi\n",
    "// \n",
    "// this software is released under the MIT License.\n",
    "// https://opensource.org/licenses/MIT\n",
    "\n",
    "// features.shape(); // [150, 4]\n",
    "// features.nrows(); // 150\n",
    "// features.ncols(); // 4\n",
    "// features.len(); // 600\n",
    "\n",
    "// target.shape(); // [150, 1]\n",
    "// target.nrows(); // 150\n",
    "// target.ncols(); // 1\n",
    "// target.len(); // 150"
   ]
  },
  {
   "cell_type": "code",
   "execution_count": null,
   "id": "2a59c032-bafa-454e-aaa2-ca46c074a1ac",
   "metadata": {},
   "outputs": [],
   "source": [
    "let x = Array::from_iter(0..target.len());\n",
    "\n",
    "let mut plot = Plot::new();\n",
    "for i in 0..features.ncols() {\n",
    "  let y = features.slice(s![.., i]).to_owned(); \n",
    "  let t = Scatter::from_array(x.clone(), y).name(&columns[i]).mode(Mode::Markers);\n",
    "  plot.add_trace(t);\n",
    "}\n",
    "plot"
   ]
  },
  {
   "cell_type": "code",
   "execution_count": null,
   "id": "68bc4cea-c0e5-4323-94bb-a6109ad9e40b",
   "metadata": {},
   "outputs": [],
   "source": [
    "let x = Array::from_iter(0..features.nrows());\n",
    "\n",
    "let mut plot = Plot::new();\n",
    "for i in 0..features.ncols() {\n",
    "  let y = features.slice(s![.., i]).to_owned();\n",
    "  let t = Scatter::from_array(y, x.clone()).name(&columns[i]).mode(Mode::Markers);\n",
    "  plot.add_trace(t);\n",
    "}\n",
    "\n",
    "plot"
   ]
  },
  {
   "cell_type": "code",
   "execution_count": null,
   "id": "69c076ff-f33b-4caf-afff-4f182d6b2b85",
   "metadata": {},
   "outputs": [],
   "source": [
    "feature_df"
   ]
  },
  {
   "cell_type": "code",
   "execution_count": null,
   "id": "341ff322-d9d9-4d15-bcd0-ad499559cee8",
   "metadata": {},
   "outputs": [],
   "source": [
    "features.slice(s![.., 2])"
   ]
  },
  {
   "cell_type": "code",
   "execution_count": null,
   "id": "bb3ba330-1068-4917-ba3f-45ad4d038667",
   "metadata": {},
   "outputs": [],
   "source": [
    "// use plotly::ndarray::ArrayTraces;\n",
    "\n",
    "// let x = Array::from_iter(0..features.nrows());\n",
    "\n",
    "// let traces = Scatter::default()\n",
    "//   .mode(Mode::Markers)\n",
    "//   .to_traces(x.clone(), features.clone(), ArrayTraces::OverColumns);\n",
    "\n",
    "// let mut plot = Plot::new();\n",
    "// plot.add_traces(traces);\n",
    "// plot"
   ]
  },
  {
   "cell_type": "code",
   "execution_count": null,
   "id": "76451b24-2872-4318-8eaa-d0b963ea9d4e",
   "metadata": {},
   "outputs": [],
   "source": [
    "// Copyright (c) 2023 Victor I. Afolabi\n",
    "// \n",
    "// This software is released under the MIT License.\n",
    "// https://opensource.org/licenses/MIT\n",
    "\n",
    "let n: usize = 11;\n",
    "let t: Array<f64, Ix1> = Array::range(0., 10., 10. / n as f64);\n",
    "let ys: Array<f64, Ix1> = t.iter().map(|v| (*v).powf(2.)).collect();\n",
    "\n",
    "let trace = Scatter::from_array(t, ys).mode(Mode::LinesMarkers);\n",
    "\n",
    "let mut plot = Plot::new();\n",
    "plot.add_trace(trace);\n",
    "plot"
   ]
  },
  {
   "cell_type": "code",
   "execution_count": null,
   "id": "683853e2-52ae-4566-ba26-82d3820b68e7",
   "metadata": {},
   "outputs": [],
   "source": [
    "// Copyright (c) 2023 Victor I. Afolabi\n",
    "// \n",
    "// This software is released under the MIT License.\n",
    "// https://opensource.org/licenses/MIT\n",
    "// use plotly::ndarray::ArrayTraces;\n",
    "\n",
    "// let n: usize = 11;\n",
    "// let t: Array<f64, Ix1> = Array::range(0., 10., 10. / n as f64);\n",
    "// let mut ys: Array<f64, Ix2> = Array::zeros((11, 11));\n",
    "// let mut count = 0.;\n",
    "// for mut row in ys.columns_mut() {\n",
    "//    for index in 0..row.len() {\n",
    "//       row[index] = count + (index as f64).powf(2.);\n",
    "//    }\n",
    "//    count += 1.;\n",
    "// }\n",
    "\n",
    "// let traces = Scatter::default()\n",
    "//             .mode(Mode::LinesMarkers)\n",
    "//             .to_traces(t, ys, ArrayTraces::OverColumns);\n",
    "\n",
    "// let mut plot = Plot::new();\n",
    "// plot.add_traces(traces);\n",
    "// plot"
   ]
  }
 ],
 "metadata": {
  "kernelspec": {
   "display_name": "Rust",
   "language": "rust",
   "name": "rust"
  },
  "language_info": {
   "codemirror_mode": "rust",
   "file_extension": ".rs",
   "mimetype": "text/rust",
   "name": "Rust",
   "pygment_lexer": "rust",
   "version": ""
  }
 },
 "nbformat": 4,
 "nbformat_minor": 5
}
